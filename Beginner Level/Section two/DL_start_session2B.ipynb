{
  "nbformat": 4,
  "nbformat_minor": 0,
  "metadata": {
    "colab": {
      "name": "DL_start_session2B.ipynb",
      "provenance": []
    },
    "kernelspec": {
      "name": "python3",
      "display_name": "Python 3"
    },
    "language_info": {
      "name": "python"
    }
  },
  "cells": [
    {
      "cell_type": "code",
      "execution_count": 17,
      "metadata": {
        "id": "mrCJiuK5TEDf"
      },
      "outputs": [],
      "source": [
        "import keras\n",
        "from keras.models import Sequential\n",
        "from keras.layers import Dense, Dropout, Activation\n",
        "import numpy as np\n",
        "from scipy import io\n",
        "import cv2\n",
        "from skimage.transform import resize\n",
        "import matplotlib.pyplot as plt\n",
        "np.random.seed(123) "
      ]
    },
    {
      "cell_type": "markdown",
      "source": [
        "###Our Network without Dropout"
      ],
      "metadata": {
        "id": "B-PRMdgcYUfW"
      }
    },
    {
      "cell_type": "code",
      "source": [
        "dataset = io.loadmat('/content/Data_hoda_full.mat')\n",
        "\n",
        "x_train_original = np.squeeze(dataset['Data'][0:1000])\n",
        "y_train_original = np.squeeze(dataset['labels'][0:1000])\n",
        "x_test_original = np.squeeze(dataset['Data'][1000:1200])\n",
        "y_test_original = np.squeeze(dataset['labels'][1000:1200])\n",
        "\n",
        "# Resize\n",
        "x_train_5by5 = [cv2.resize(img, (5, 5)) for img in x_train_original]\n",
        "x_test_5by5 = [cv2.resize(img, (5, 5)) for img in x_test_original]\n",
        "x_train = [x.reshape(25) for x in x_train_5by5]\n",
        "x_test = [x.reshape(25) for x in x_test_5by5]\n",
        "\n",
        "# Preprocess input data for Keras. \n",
        "x_train = np.array(x_train)\n",
        "y_train = keras.utils.np_utils.to_categorical(y_train_original, num_classes=10)\n",
        "x_test = np.array(x_test)\n",
        "y_test = keras.utils.np_utils.to_categorical(y_test_original, num_classes=10)\n",
        "\n",
        "# Normalization and changing the format for Keras\n",
        "x_train = x_train.astype('float32')\n",
        "x_test = x_test.astype('float32')\n",
        "x_train /= 255\n",
        "x_test /= 255"
      ],
      "metadata": {
        "id": "02zJGyEAV-Na"
      },
      "execution_count": 18,
      "outputs": []
    },
    {
      "cell_type": "code",
      "source": [
        "# Define model architecture\n",
        "model = Sequential()\n",
        "model.add(Dense(64, activation='relu', input_dim=25))\n",
        "model.add(Dense(200, activation='relu'))\n",
        "model.add(Dense(10, activation='softmax'))"
      ],
      "metadata": {
        "id": "FT3KSvG8Wozq"
      },
      "execution_count": 19,
      "outputs": []
    },
    {
      "cell_type": "code",
      "source": [
        "# Compile model\n",
        "model.compile(loss='categorical_crossentropy', optimizer='adam', metrics=['accuracy'])"
      ],
      "metadata": {
        "id": "wU5_1EFQXIQ2"
      },
      "execution_count": 20,
      "outputs": []
    },
    {
      "cell_type": "code",
      "source": [
        "train_loss = []\n",
        "train_accuracy = []\n",
        "test_loss = []\n",
        "test_accuracy = []"
      ],
      "metadata": {
        "id": "d_u4hpuYXPbQ"
      },
      "execution_count": 21,
      "outputs": []
    },
    {
      "cell_type": "code",
      "source": [
        "# Fit model on training data and evaluate model on test data for each epoch\n",
        "for i in range(200):\n",
        "  model.fit(x_train, y_train, epochs=1, batch_size=128, verbose=0)\n",
        "\n",
        "  loss, acc = model.evaluate(x_train, y_train, verbose=0)\n",
        "  train_loss += [loss]\n",
        "  train_accuracy += [acc]\n",
        "  loss, acc = model.evaluate(x_test, y_test, verbose=0)\n",
        "  test_loss += [loss]\n",
        "  test_accuracy += [acc]"
      ],
      "metadata": {
        "id": "ujehncNiXSTH"
      },
      "execution_count": 22,
      "outputs": []
    },
    {
      "cell_type": "code",
      "source": [
        "print(\"Test Accuracy:\",test_accuracy[-1],\"\\nMaximum Test Acuracy During Training: \", max(test_accuracy))"
      ],
      "metadata": {
        "colab": {
          "base_uri": "https://localhost:8080/"
        },
        "id": "WVGe2OvwXiCk",
        "outputId": "147e38c8-5066-441e-bb8d-fc82a92ec7d9"
      },
      "execution_count": 23,
      "outputs": [
        {
          "output_type": "stream",
          "name": "stdout",
          "text": [
            "Test Accuracy: 0.9200000166893005 \n",
            "Maximum Test Acuracy During Training:  0.9350000023841858\n"
          ]
        }
      ]
    },
    {
      "cell_type": "markdown",
      "source": [
        "### Let's plot loss and accuracy"
      ],
      "metadata": {
        "id": "wgxEWQ8sY6Ip"
      }
    },
    {
      "cell_type": "code",
      "source": [
        "plt.figure(1)\n",
        "plt.plot(train_loss, label='Train')\n",
        "plt.plot(test_loss, label='Test')\n",
        "plt.xlabel('Number Of Epochs')\n",
        "plt.ylabel('Loss')\n",
        "plt.legend()\n",
        "plt.show()"
      ],
      "metadata": {
        "colab": {
          "base_uri": "https://localhost:8080/",
          "height": 279
        },
        "id": "KIurNQWHY5qK",
        "outputId": "463a644a-83d5-4da6-d276-0d55b5eb9abf"
      },
      "execution_count": 24,
      "outputs": [
        {
          "output_type": "display_data",
          "data": {
            "text/plain": [
              "<Figure size 432x288 with 1 Axes>"
            ],
            "image/png": "[encoded data removed]"
          },
          "metadata": {
            "needs_background": "light"
          }
        }
      ]
    },
    {
      "cell_type": "code",
      "source": [
        "plt.figure(2)\n",
        "plt.plot(train_accuracy, label='Train')\n",
        "plt.plot(test_accuracy, label='Test')\n",
        "plt.xlabel('Number Of Epochs')\n",
        "plt.ylabel('Accuracy(%)')\n",
        "plt.legend()\n",
        "plt.show()"
      ],
      "metadata": {
        "colab": {
          "base_uri": "https://localhost:8080/",
          "height": 279
        },
        "id": "FQKHKLSWZKBS",
        "outputId": "c67d6d5e-237d-4931-f892-6857087505e6"
      },
      "execution_count": 25,
      "outputs": [
        {
          "output_type": "display_data",
          "data": {
            "text/plain": [
              "<Figure size 432x288 with 1 Axes>"
            ],
            "image/png": "[encoded data removed]"
          },
          "metadata": {
            "needs_background": "light"
          }
        }
      ]
    },
    {
      "cell_type": "markdown",
      "source": [
        "### Our Network with Dropout"
      ],
      "metadata": {
        "id": "zYaBf5QlkvRU"
      }
    },
    {
      "cell_type": "code",
      "source": [
        "# Define model architecture\n",
        "model = Sequential()\n",
        "model.add(Dense(64, activation='relu', input_dim=25))\n",
        "model.add(Dense(200, activation='relu'))\n",
        "model.add(Dropout(0.5))\n",
        "model.add(Dense(10, activation='softmax'))"
      ],
      "metadata": {
        "id": "ZIUQoUFWZUrb"
      },
      "execution_count": 26,
      "outputs": []
    },
    {
      "cell_type": "code",
      "source": [
        "# Compile model\n",
        "model.compile(loss='categorical_crossentropy', optimizer='adam', metrics=['accuracy'])"
      ],
      "metadata": {
        "id": "QbLWY_mbk-Kd"
      },
      "execution_count": 27,
      "outputs": []
    },
    {
      "cell_type": "code",
      "source": [
        "train_loss = []\n",
        "train_accuracy = []\n",
        "test_loss = []\n",
        "test_accuracy = []"
      ],
      "metadata": {
        "id": "bSQd0tBzlBdA"
      },
      "execution_count": 28,
      "outputs": []
    },
    {
      "cell_type": "code",
      "source": [
        "# Fit model on training data and evaluate model on test data for each epoch\n",
        "for i in range(200):\n",
        "  model.fit(x_train, y_train, epochs=1, batch_size=128, verbose=0)\n",
        "\n",
        "  loss, acc = model.evaluate(x_train, y_train, verbose=0)\n",
        "  train_loss += [loss]\n",
        "  train_accuracy += [acc]\n",
        "  loss, acc = model.evaluate(x_test, y_test, verbose=0)\n",
        "  test_loss += [loss]\n",
        "  test_accuracy += [acc]"
      ],
      "metadata": {
        "id": "wHCwpZe4lB_j"
      },
      "execution_count": 29,
      "outputs": []
    },
    {
      "cell_type": "code",
      "source": [
        "print(\"Test Accuracy:\",test_accuracy[-1],\"\\nMaximum Test Acuracy During Training: \", max(test_accuracy))"
      ],
      "metadata": {
        "colab": {
          "base_uri": "https://localhost:8080/"
        },
        "id": "WVtYh1yBlIWd",
        "outputId": "e6b46e63-1a61-4a8b-c1c5-7c3d315938dd"
      },
      "execution_count": 30,
      "outputs": [
        {
          "output_type": "stream",
          "name": "stdout",
          "text": [
            "Test Accuracy: 0.925000011920929 \n",
            "Maximum Test Acuracy During Training:  0.9449999928474426\n"
          ]
        }
      ]
    },
    {
      "cell_type": "code",
      "source": [
        "plt.figure(1)\n",
        "plt.plot(train_loss, label='Train')\n",
        "plt.plot(test_loss, label='Test')\n",
        "plt.xlabel('Number Of Epochs')\n",
        "plt.ylabel('Loss')\n",
        "plt.legend()\n",
        "plt.show()"
      ],
      "metadata": {
        "colab": {
          "base_uri": "https://localhost:8080/",
          "height": 279
        },
        "id": "uLFkKlYIlKqw",
        "outputId": "4788a709-e581-449f-d744-a4b8cce036b8"
      },
      "execution_count": 31,
      "outputs": [
        {
          "output_type": "display_data",
          "data": {
            "text/plain": [
              "<Figure size 432x288 with 1 Axes>"
            ],
            "image/png": "[encoded data removed]"
          },
          "metadata": {
            "needs_background": "light"
          }
        }
      ]
    },
    {
      "cell_type": "code",
      "source": [
        "plt.figure(2)\n",
        "plt.plot(train_accuracy, label='Train')\n",
        "plt.plot(test_accuracy, label='Test')\n",
        "plt.xlabel('Number Of Epochs')\n",
        "plt.ylabel('Accuracy(%)')\n",
        "plt.legend()\n",
        "plt.show()"
      ],
      "metadata": {
        "colab": {
          "base_uri": "https://localhost:8080/",
          "height": 279
        },
        "id": "fZcp7bO1lNEF",
        "outputId": "f060d7e5-62f9-450d-9daa-c83c8b992a3e"
      },
      "execution_count": 32,
      "outputs": [
        {
          "output_type": "display_data",
          "data": {
            "text/plain": [
              "<Figure size 432x288 with 1 Axes>"
            ],
            "image/png": "[encoded data removed]"
          },
          "metadata": {
            "needs_background": "light"
          }
        }
      ]
    },
    {
      "cell_type": "markdown",
      "source": [
        "#### we can see that our maximum test accuracy increased 1 percent and our test accuracy increased 0.5 percent, so this dropout would work on this problem."
      ],
      "metadata": {
        "id": "ioJ3pgSbm6z5"
      }
    }
  ]
}