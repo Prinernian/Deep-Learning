{
  "nbformat": 4,
  "nbformat_minor": 0,
  "metadata": {
    "colab": {
      "name": "DL_start_session2A.ipynb",
      "provenance": []
    },
    "kernelspec": {
      "name": "python3",
      "display_name": "Python 3"
    },
    "language_info": {
      "name": "python"
    }
  },
  "cells": [
    {
      "cell_type": "code",
      "execution_count": 153,
      "metadata": {
        "id": "x7X6lu-vVgS7"
      },
      "outputs": [],
      "source": [
        "import cv2\n",
        "import keras\n",
        "from keras.models import Sequential\n",
        "from keras.layers import Dense, Activation\n",
        "import numpy as np\n",
        "np.random.seed(123)\n",
        "from scipy import io\n",
        "import matplotlib.pyplot as plt\n",
        "from skimage.transform import resize"
      ]
    },
    {
      "cell_type": "code",
      "source": [
        "dataset = io.loadmat('/content/Data_hoda_full.mat')"
      ],
      "metadata": {
        "id": "iN-VoH1DTr5Y"
      },
      "execution_count": 154,
      "outputs": []
    },
    {
      "cell_type": "code",
      "source": [
        "x_train_original = np.squeeze(dataset['Data'][0:1000])\n",
        "y_train_original = np.squeeze(dataset['labels'][0:1000])\n",
        "x_test_original = np.squeeze(dataset['Data'][1000:1200])\n",
        "y_test_original = np.squeeze(dataset['labels'][1000:1200])"
      ],
      "metadata": {
        "id": "jewkTCLefx7R"
      },
      "execution_count": 155,
      "outputs": []
    },
    {
      "cell_type": "code",
      "source": [
        "#resize\n",
        "x_train_5by5 = [cv2.resize(img, (5, 5)) for img in x_train_original]\n",
        "x_test_5by5 = [cv2.resize(img, (5, 5)) for img in x_test_original]"
      ],
      "metadata": {
        "id": "G_HzRfh6gD1q"
      },
      "execution_count": 156,
      "outputs": []
    },
    {
      "cell_type": "code",
      "source": [
        "x_train = [x.reshape(25) for x in x_train_5by5]\n",
        "x_test = [x.reshape(25) for x in x_test_5by5]"
      ],
      "metadata": {
        "id": "Ul0EF93tgIXv"
      },
      "execution_count": 157,
      "outputs": []
    },
    {
      "cell_type": "code",
      "source": [
        "def print_data_info(x_train, y_train, x_test, y_test):\n",
        "    #Check data Type\n",
        "    print (\"\\ttype(x_train): {}\".format(type(x_train)))\n",
        "    print (\"\\ttype(y_train): {}\".format(type(y_train)))\n",
        "\n",
        "    #check data Shape\n",
        "    print (\"\\tx_train.shape: {}\".format(np.shape(x_train)))\n",
        "    print (\"\\ty_train.shape: {}\".format(np.shape(y_train)))\n",
        "    print (\"\\tx_test.shape: {}\".format(np.shape(x_test)))\n",
        "    print (\"\\ty_test.shape: {}\".format(np.shape(y_test)))\n",
        "\n",
        "    #sample data\n",
        "    print (\"\\ty_train[0]: {}\".format(y_train[0]))"
      ],
      "metadata": {
        "id": "Kba4FvsWgQCu"
      },
      "execution_count": 158,
      "outputs": []
    },
    {
      "cell_type": "code",
      "source": [
        "# Preprocess input data for Keras. \n",
        "x_train = np.array(x_train)\n",
        "y_train = keras.utils.np_utils.to_categorical(y_train_original, num_classes=10)\n",
        "x_test = np.array(x_test)\n",
        "y_test = keras.utils.np_utils.to_categorical(y_test_original, num_classes=10)"
      ],
      "metadata": {
        "id": "160GH8oigW61"
      },
      "execution_count": 159,
      "outputs": []
    },
    {
      "cell_type": "code",
      "source": [
        "print(\"Before Preprocessing:\")\n",
        "print_data_info(x_train_original, y_train_original, x_test_original, y_test_original)\n",
        "print(\"After Preprocessing:\")\n",
        "print_data_info(x_train, y_train, x_test, y_test)"
      ],
      "metadata": {
        "colab": {
          "base_uri": "https://localhost:8080/"
        },
        "id": "c504-XuZgZzg",
        "outputId": "310fc884-5f27-41f4-c64d-ce62b762ef18"
      },
      "execution_count": 160,
      "outputs": [
        {
          "output_type": "stream",
          "name": "stdout",
          "text": [
            "Before Preprocessing:\n",
            "\ttype(x_train): <class 'numpy.ndarray'>\n",
            "\ttype(y_train): <class 'numpy.ndarray'>\n",
            "\tx_train.shape: (1000,)\n",
            "\ty_train.shape: (1000,)\n",
            "\tx_test.shape: (200,)\n",
            "\ty_test.shape: (200,)\n",
            "\ty_train[0]: 6\n",
            "After Preprocessing:\n",
            "\ttype(x_train): <class 'numpy.ndarray'>\n",
            "\ttype(y_train): <class 'numpy.ndarray'>\n",
            "\tx_train.shape: (1000, 25)\n",
            "\ty_train.shape: (1000, 10)\n",
            "\tx_test.shape: (200, 25)\n",
            "\ty_test.shape: (200, 10)\n",
            "\ty_train[0]: [0. 0. 0. 0. 0. 0. 1. 0. 0. 0.]\n"
          ]
        }
      ]
    },
    {
      "cell_type": "code",
      "source": [
        "x_train = x_train.astype('float32')\n",
        "x_test = x_test.astype('float32')\n",
        "x_train /= 255\n",
        "x_test /= 255"
      ],
      "metadata": {
        "id": "gjPKmc1MgwOF"
      },
      "execution_count": 161,
      "outputs": []
    },
    {
      "cell_type": "code",
      "source": [
        "model = Sequential()\n",
        "model.add(Dense(64, activation='relu', input_dim=25))\n",
        "model.add(Dense(10, activation='softmax'))"
      ],
      "metadata": {
        "id": "eHdR5GRQh970"
      },
      "execution_count": 162,
      "outputs": []
    },
    {
      "cell_type": "code",
      "source": [
        "model.summary()"
      ],
      "metadata": {
        "colab": {
          "base_uri": "https://localhost:8080/"
        },
        "id": "Sw6TRw9qiAgC",
        "outputId": "d9911df8-725d-4174-e563-8647ea0f2ce4"
      },
      "execution_count": 163,
      "outputs": [
        {
          "output_type": "stream",
          "name": "stdout",
          "text": [
            "Model: \"sequential_7\"\n",
            "_________________________________________________________________\n",
            " Layer (type)                Output Shape              Param #   \n",
            "=================================================================\n",
            " dense_21 (Dense)            (None, 64)                1664      \n",
            "                                                                 \n",
            " dense_22 (Dense)            (None, 10)                650       \n",
            "                                                                 \n",
            "=================================================================\n",
            "Total params: 2,314\n",
            "Trainable params: 2,314\n",
            "Non-trainable params: 0\n",
            "_________________________________________________________________\n"
          ]
        }
      ]
    },
    {
      "cell_type": "code",
      "source": [
        "model.compile(loss='categorical_crossentropy', optimizer='rmsprop', metrics=['accuracy'])"
      ],
      "metadata": {
        "id": "BfpmfCTtiCDJ"
      },
      "execution_count": 164,
      "outputs": []
    },
    {
      "cell_type": "code",
      "source": [
        "model.fit(x_train, y_train, epochs=30, batch_size=64, validation_split=0.2)"
      ],
      "metadata": {
        "colab": {
          "base_uri": "https://localhost:8080/"
        },
        "id": "5Ny1YM1tiGcn",
        "outputId": "e2ff6a51-e8a4-499e-cbe5-49d4f38920b8"
      },
      "execution_count": 165,
      "outputs": [
        {
          "output_type": "stream",
          "name": "stdout",
          "text": [
            "Epoch 1/30\n",
            "13/13 [==============================] - 1s 34ms/step - loss: 2.2171 - accuracy: 0.1925 - val_loss: 2.0428 - val_accuracy: 0.3600\n",
            "Epoch 2/30\n",
            "13/13 [==============================] - 0s 6ms/step - loss: 2.0020 - accuracy: 0.4137 - val_loss: 1.8602 - val_accuracy: 0.5350\n",
            "Epoch 3/30\n",
            "13/13 [==============================] - 0s 7ms/step - loss: 1.8318 - accuracy: 0.5275 - val_loss: 1.6953 - val_accuracy: 0.6350\n",
            "Epoch 4/30\n",
            "13/13 [==============================] - 0s 4ms/step - loss: 1.6723 - accuracy: 0.6325 - val_loss: 1.5335 - val_accuracy: 0.6750\n",
            "Epoch 5/30\n",
            "13/13 [==============================] - 0s 4ms/step - loss: 1.5164 - accuracy: 0.6762 - val_loss: 1.3844 - val_accuracy: 0.7400\n",
            "Epoch 6/30\n",
            "13/13 [==============================] - 0s 4ms/step - loss: 1.3693 - accuracy: 0.7312 - val_loss: 1.2454 - val_accuracy: 0.7650\n",
            "Epoch 7/30\n",
            "13/13 [==============================] - 0s 5ms/step - loss: 1.2325 - accuracy: 0.7563 - val_loss: 1.1192 - val_accuracy: 0.7750\n",
            "Epoch 8/30\n",
            "13/13 [==============================] - 0s 5ms/step - loss: 1.1110 - accuracy: 0.7887 - val_loss: 1.0117 - val_accuracy: 0.8100\n",
            "Epoch 9/30\n",
            "13/13 [==============================] - 0s 4ms/step - loss: 1.0024 - accuracy: 0.8075 - val_loss: 0.9254 - val_accuracy: 0.8200\n",
            "Epoch 10/30\n",
            "13/13 [==============================] - 0s 5ms/step - loss: 0.9102 - accuracy: 0.8188 - val_loss: 0.8436 - val_accuracy: 0.8150\n",
            "Epoch 11/30\n",
            "13/13 [==============================] - 0s 4ms/step - loss: 0.8285 - accuracy: 0.8413 - val_loss: 0.7720 - val_accuracy: 0.8400\n",
            "Epoch 12/30\n",
            "13/13 [==============================] - 0s 5ms/step - loss: 0.7586 - accuracy: 0.8450 - val_loss: 0.7160 - val_accuracy: 0.8550\n",
            "Epoch 13/30\n",
            "13/13 [==============================] - 0s 5ms/step - loss: 0.6978 - accuracy: 0.8625 - val_loss: 0.6679 - val_accuracy: 0.8600\n",
            "Epoch 14/30\n",
            "13/13 [==============================] - 0s 6ms/step - loss: 0.6458 - accuracy: 0.8625 - val_loss: 0.6276 - val_accuracy: 0.8450\n",
            "Epoch 15/30\n",
            "13/13 [==============================] - 0s 6ms/step - loss: 0.6041 - accuracy: 0.8662 - val_loss: 0.5917 - val_accuracy: 0.8650\n",
            "Epoch 16/30\n",
            "13/13 [==============================] - 0s 5ms/step - loss: 0.5660 - accuracy: 0.8662 - val_loss: 0.5621 - val_accuracy: 0.8600\n",
            "Epoch 17/30\n",
            "13/13 [==============================] - 0s 4ms/step - loss: 0.5328 - accuracy: 0.8700 - val_loss: 0.5380 - val_accuracy: 0.8600\n",
            "Epoch 18/30\n",
            "13/13 [==============================] - 0s 5ms/step - loss: 0.5031 - accuracy: 0.8725 - val_loss: 0.5165 - val_accuracy: 0.8500\n",
            "Epoch 19/30\n",
            "13/13 [==============================] - 0s 5ms/step - loss: 0.4774 - accuracy: 0.8800 - val_loss: 0.4963 - val_accuracy: 0.8600\n",
            "Epoch 20/30\n",
            "13/13 [==============================] - 0s 5ms/step - loss: 0.4554 - accuracy: 0.8775 - val_loss: 0.4805 - val_accuracy: 0.8650\n",
            "Epoch 21/30\n",
            "13/13 [==============================] - 0s 5ms/step - loss: 0.4360 - accuracy: 0.8875 - val_loss: 0.4652 - val_accuracy: 0.8650\n",
            "Epoch 22/30\n",
            "13/13 [==============================] - 0s 4ms/step - loss: 0.4190 - accuracy: 0.8900 - val_loss: 0.4534 - val_accuracy: 0.8650\n",
            "Epoch 23/30\n",
            "13/13 [==============================] - 0s 5ms/step - loss: 0.4037 - accuracy: 0.8888 - val_loss: 0.4383 - val_accuracy: 0.8750\n",
            "Epoch 24/30\n",
            "13/13 [==============================] - 0s 5ms/step - loss: 0.3893 - accuracy: 0.8963 - val_loss: 0.4282 - val_accuracy: 0.8700\n",
            "Epoch 25/30\n",
            "13/13 [==============================] - 0s 4ms/step - loss: 0.3772 - accuracy: 0.8975 - val_loss: 0.4197 - val_accuracy: 0.8800\n",
            "Epoch 26/30\n",
            "13/13 [==============================] - 0s 5ms/step - loss: 0.3653 - accuracy: 0.9013 - val_loss: 0.4172 - val_accuracy: 0.8750\n",
            "Epoch 27/30\n",
            "13/13 [==============================] - 0s 5ms/step - loss: 0.3543 - accuracy: 0.9000 - val_loss: 0.4053 - val_accuracy: 0.8950\n",
            "Epoch 28/30\n",
            "13/13 [==============================] - 0s 4ms/step - loss: 0.3462 - accuracy: 0.9013 - val_loss: 0.4006 - val_accuracy: 0.8900\n",
            "Epoch 29/30\n",
            "13/13 [==============================] - 0s 5ms/step - loss: 0.3356 - accuracy: 0.9050 - val_loss: 0.3893 - val_accuracy: 0.8800\n",
            "Epoch 30/30\n",
            "13/13 [==============================] - 0s 5ms/step - loss: 0.3283 - accuracy: 0.9025 - val_loss: 0.3863 - val_accuracy: 0.8850\n"
          ]
        },
        {
          "output_type": "execute_result",
          "data": {
            "text/plain": [
              "<keras.callbacks.History at 0x7efde2f01950>"
            ]
          },
          "metadata": {},
          "execution_count": 165
        }
      ]
    },
    {
      "cell_type": "code",
      "source": [
        "loss, acc = model.evaluate(x_test, y_test)\n",
        "print('\\nTesting loss: %.2f, acc: %.2f%%'%(loss, acc))"
      ],
      "metadata": {
        "colab": {
          "base_uri": "https://localhost:8080/"
        },
        "id": "bFDOLOjOiJov",
        "outputId": "779d51d8-8d01-44da-f9ae-6cf388bf03fd"
      },
      "execution_count": 166,
      "outputs": [
        {
          "output_type": "stream",
          "name": "stdout",
          "text": [
            "7/7 [==============================] - 0s 2ms/step - loss: 0.3484 - accuracy: 0.9150\n",
            "\n",
            "Testing loss: 0.35, acc: 0.92%\n"
          ]
        }
      ]
    },
    {
      "cell_type": "code",
      "source": [
        "# The predict_classes function outputs the highest probability class according to the trained classifier for each input example.\n",
        "prModel = model.predict(x_test) \n",
        "classes_prediction = np.argmax(prModel,axis=1)\n",
        "print(\"predicted:\")\n",
        "print(classes_prediction)\n",
        "print(\"True Label:\")\n",
        "print(y_test_original)"
      ],
      "metadata": {
        "colab": {
          "base_uri": "https://localhost:8080/"
        },
        "id": "wzRFtwFriO7_",
        "outputId": "79f21d67-96c2-400b-c480-6d9de1397faa"
      },
      "execution_count": 168,
      "outputs": [
        {
          "output_type": "stream",
          "name": "stdout",
          "text": [
            "predicted:\n",
            "[7 2 3 1 5 5 4 7 3 3 0 8 8 0 2 9 3 6 7 4 0 3 6 3 9 2 7 5 2 9 2 5 5 8 9 2 5\n",
            " 1 4 8 8 4 7 2 1 2 7 9 0 3 7 5 7 5 2 9 8 2 9 8 8 6 6 6 7 6 2 4 6 4 1 5 9 1\n",
            " 8 4 0 5 6 2 4 3 2 7 7 7 7 1 8 1 7 8 7 7 8 9 7 2 3 1 0 2 9 6 3 5 5 0 0 9 6\n",
            " 7 9 3 9 9 8 7 9 2 5 2 5 5 9 6 9 2 0 3 7 9 8 2 9 0 4 1 8 2 2 3 5 2 9 3 8 2\n",
            " 7 0 9 9 0 7 6 2 4 7 9 3 7 0 7 1 9 4 7 3 4 1 5 6 7 9 1 3 5 4 5 7 4 1 3 3 1\n",
            " 1 3 3 8 9 6 7 7 2 3 0 1 4 9 5]\n",
            "True Label:\n",
            "[7 2 3 1 5 5 4 7 3 2 0 8 8 0 2 9 3 6 7 4 0 3 6 3 9 2 7 5 2 9 7 5 5 8 9 6 5\n",
            " 1 4 8 8 4 7 7 1 2 7 9 0 3 7 4 7 5 2 9 8 2 9 8 8 6 6 6 6 6 2 4 3 4 4 5 9 1\n",
            " 8 2 0 5 6 2 4 3 2 7 7 7 7 1 8 1 7 8 7 7 8 9 3 2 3 1 0 2 9 6 3 5 5 0 0 3 6\n",
            " 7 9 3 9 9 8 7 9 2 5 2 5 5 9 6 9 2 0 3 7 6 5 2 9 0 4 1 8 2 2 3 0 2 9 3 8 6\n",
            " 7 0 9 9 0 7 6 5 4 7 9 3 7 0 7 1 9 4 7 3 4 1 5 6 7 9 1 3 5 4 5 7 4 1 3 3 1\n",
            " 2 3 3 8 9 6 7 7 2 3 0 1 4 9 5]\n"
          ]
        }
      ]
    }
  ]
}