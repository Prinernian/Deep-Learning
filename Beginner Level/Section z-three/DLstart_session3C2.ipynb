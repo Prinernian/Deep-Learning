{
  "nbformat": 4,
  "nbformat_minor": 0,
  "metadata": {
    "colab": {
      "name": "DLstart_session3C2.ipynb",
      "provenance": []
    },
    "kernelspec": {
      "name": "python3",
      "display_name": "Python 3"
    },
    "language_info": {
      "name": "python"
    },
    "gpuClass": "standard",
    "accelerator": "GPU"
  },
  "cells": [
    {
      "cell_type": "markdown",
      "source": [
        "### We will see fine-tuning in this code"
      ],
      "metadata": {
        "id": "nTArsfEsdUv6"
      }
    },
    {
      "cell_type": "code",
      "execution_count": null,
      "metadata": {
        "colab": {
          "base_uri": "https://localhost:8080/"
        },
        "id": "2ifFwt7fbTRb",
        "outputId": "0ba204db-84ea-4cec-9f38-53c41802f372"
      },
      "outputs": [
        {
          "output_type": "stream",
          "name": "stdout",
          "text": [
            "Downloading data from https://storage.googleapis.com/tensorflow/keras-applications/vgg16/vgg16_weights_tf_dim_ordering_tf_kernels_notop.h5\n",
            "58892288/58889256 [==============================] - 0s 0us/step\n",
            "58900480/58889256 [==============================] - 0s 0us/step\n"
          ]
        }
      ],
      "source": [
        "from keras.applications.vgg16 import VGG16\n",
        "conv_base = VGG16(weights='imagenet', include_top=False, input_shape=(150, 150, 3))"
      ]
    },
    {
      "cell_type": "code",
      "source": [
        "from keras import models\n",
        "from keras import layers"
      ],
      "metadata": {
        "id": "h6wzo6oWdda9"
      },
      "execution_count": null,
      "outputs": []
    },
    {
      "cell_type": "code",
      "source": [
        "model = models.Sequential()\n",
        "model.add(conv_base)\n",
        "model.add(layers.Flatten())\n",
        "model.add(layers.Dense(256, activation='relu'))\n",
        "model.add(layers.Dense(1, activation='sigmoid'))"
      ],
      "metadata": {
        "id": "HAz_6ZkadT_6"
      },
      "execution_count": null,
      "outputs": []
    },
    {
      "cell_type": "code",
      "source": [
        "model.summary()"
      ],
      "metadata": {
        "colab": {
          "base_uri": "https://localhost:8080/"
        },
        "id": "zR7upCuudegD",
        "outputId": "ab889da9-a5fe-426e-e219-62fab2914baa"
      },
      "execution_count": null,
      "outputs": [
        {
          "output_type": "stream",
          "name": "stdout",
          "text": [
            "Model: \"sequential\"\n",
            "_________________________________________________________________\n",
            " Layer (type)                Output Shape              Param #   \n",
            "=================================================================\n",
            " vgg16 (Functional)          (None, 4, 4, 512)         14714688  \n",
            "                                                                 \n",
            " flatten (Flatten)           (None, 8192)              0         \n",
            "                                                                 \n",
            " dense (Dense)               (None, 256)               2097408   \n",
            "                                                                 \n",
            " dense_1 (Dense)             (None, 1)                 257       \n",
            "                                                                 \n",
            "=================================================================\n",
            "Total params: 16,812,353\n",
            "Trainable params: 16,812,353\n",
            "Non-trainable params: 0\n",
            "_________________________________________________________________\n"
          ]
        }
      ]
    },
    {
      "cell_type": "code",
      "source": [
        "print('This is the number of trainable weights before freezing the conv base:', len(model.trainable_weights))"
      ],
      "metadata": {
        "colab": {
          "base_uri": "https://localhost:8080/"
        },
        "id": "yDfhDM99dhHS",
        "outputId": "7a50c20c-606b-4809-ce5a-47ce48f9eb41"
      },
      "execution_count": null,
      "outputs": [
        {
          "output_type": "stream",
          "name": "stdout",
          "text": [
            "This is the number of trainable weights before freezing the conv base: 30\n"
          ]
        }
      ]
    },
    {
      "cell_type": "code",
      "source": [
        "conv_base.trainable = False"
      ],
      "metadata": {
        "id": "-dNbH_AedmxR"
      },
      "execution_count": null,
      "outputs": []
    },
    {
      "cell_type": "code",
      "source": [
        "print('This is the number of trainable weights after freezing the conv base:', len(model.trainable_weights))"
      ],
      "metadata": {
        "colab": {
          "base_uri": "https://localhost:8080/"
        },
        "id": "hF1tN1iwdotn",
        "outputId": "140185ec-3e02-4df2-d869-2712e0c333ac"
      },
      "execution_count": null,
      "outputs": [
        {
          "output_type": "stream",
          "name": "stdout",
          "text": [
            "This is the number of trainable weights after freezing the conv base: 4\n"
          ]
        }
      ]
    },
    {
      "cell_type": "code",
      "source": [
        "from keras.preprocessing.image import ImageDataGenerator\n",
        "train_datagenerator = ImageDataGenerator(\n",
        "      rescale=1./255,\n",
        "      rotation_range=40,\n",
        "      width_shift_range=0.2,\n",
        "      height_shift_range=0.2,\n",
        "      shear_range=0.2,\n",
        "      zoom_range=0.2,\n",
        "      horizontal_flip=True,\n",
        "      fill_mode='nearest')"
      ],
      "metadata": {
        "id": "Yv0bai8Kdr5Q"
      },
      "execution_count": null,
      "outputs": []
    },
    {
      "cell_type": "code",
      "source": [
        "test_datagenerator = ImageDataGenerator(rescale=1./255)"
      ],
      "metadata": {
        "id": "VUAkKtiedxog"
      },
      "execution_count": null,
      "outputs": []
    },
    {
      "cell_type": "code",
      "source": [
        "!unzip /content/train.zip\n",
        "!unzip /content/validation.zip\n",
        "!unzip /content/test.zip"
      ],
      "metadata": {
        "id": "ZpPKJ-BCg5Dv"
      },
      "execution_count": null,
      "outputs": []
    },
    {
      "cell_type": "code",
      "source": [
        "train_generator = train_datagenerator.flow_from_directory(\n",
        "        '/content/train',\n",
        "        target_size=(150, 150),\n",
        "        batch_size=20,\n",
        "        class_mode='binary')\n",
        "validation_generator = test_datagenerator.flow_from_directory(\n",
        "        '/content/validation',\n",
        "        target_size=(150, 150),\n",
        "        batch_size=20,\n",
        "        class_mode='binary')"
      ],
      "metadata": {
        "colab": {
          "base_uri": "https://localhost:8080/"
        },
        "id": "KZqUaN5Ld0d4",
        "outputId": "290072cd-c636-46d3-86de-871baa67fdb9"
      },
      "execution_count": null,
      "outputs": [
        {
          "output_type": "stream",
          "name": "stdout",
          "text": [
            "Found 2000 images belonging to 2 classes.\n",
            "Found 1000 images belonging to 2 classes.\n"
          ]
        }
      ]
    },
    {
      "cell_type": "code",
      "source": [
        "from tensorflow.keras import optimizers"
      ],
      "metadata": {
        "id": "AF1pXPqLeuE4"
      },
      "execution_count": null,
      "outputs": []
    },
    {
      "cell_type": "code",
      "source": [
        "model.compile(loss='binary_crossentropy',\n",
        "              optimizer=optimizers.RMSprop(learning_rate=2e-5),\n",
        "              metrics=['acc'])"
      ],
      "metadata": {
        "id": "zPE0HM9ieiTt"
      },
      "execution_count": null,
      "outputs": []
    },
    {
      "cell_type": "code",
      "source": [
        "memoryM = model.fit(\n",
        "      train_generator,\n",
        "      steps_per_epoch = 100,\n",
        "      epochs = 30,\n",
        "      validation_data = validation_generator,\n",
        "      validation_steps = 50,\n",
        "      verbose = 2)"
      ],
      "metadata": {
        "colab": {
          "base_uri": "https://localhost:8080/"
        },
        "id": "_gmhlNFme3LR",
        "outputId": "c471fe70-3c91-492b-d90a-246d9d891b04"
      },
      "execution_count": null,
      "outputs": [
        {
          "output_type": "stream",
          "name": "stdout",
          "text": [
            "Epoch 1/30\n",
            "100/100 - 32s - loss: 0.5956 - acc: 0.6985 - val_loss: 0.4506 - val_acc: 0.8080 - 32s/epoch - 325ms/step\n",
            "Epoch 2/30\n",
            "100/100 - 21s - loss: 0.4930 - acc: 0.7750 - val_loss: 0.3901 - val_acc: 0.8360 - 21s/epoch - 210ms/step\n",
            "Epoch 3/30\n",
            "100/100 - 20s - loss: 0.4249 - acc: 0.8160 - val_loss: 0.3389 - val_acc: 0.8540 - 20s/epoch - 196ms/step\n",
            "Epoch 4/30\n",
            "100/100 - 20s - loss: 0.4106 - acc: 0.8195 - val_loss: 0.3232 - val_acc: 0.8560 - 20s/epoch - 195ms/step\n",
            "Epoch 5/30\n",
            "100/100 - 20s - loss: 0.3879 - acc: 0.8145 - val_loss: 0.2957 - val_acc: 0.8740 - 20s/epoch - 196ms/step\n",
            "Epoch 6/30\n",
            "100/100 - 20s - loss: 0.3712 - acc: 0.8300 - val_loss: 0.2803 - val_acc: 0.8850 - 20s/epoch - 195ms/step\n",
            "Epoch 7/30\n",
            "100/100 - 20s - loss: 0.3645 - acc: 0.8450 - val_loss: 0.2754 - val_acc: 0.8840 - 20s/epoch - 197ms/step\n",
            "Epoch 8/30\n",
            "100/100 - 20s - loss: 0.3369 - acc: 0.8595 - val_loss: 0.2829 - val_acc: 0.8840 - 20s/epoch - 197ms/step\n",
            "Epoch 9/30\n",
            "100/100 - 20s - loss: 0.3426 - acc: 0.8495 - val_loss: 0.2670 - val_acc: 0.8890 - 20s/epoch - 204ms/step\n",
            "Epoch 10/30\n",
            "100/100 - 20s - loss: 0.3365 - acc: 0.8530 - val_loss: 0.2587 - val_acc: 0.8850 - 20s/epoch - 196ms/step\n",
            "Epoch 11/30\n",
            "100/100 - 20s - loss: 0.3377 - acc: 0.8580 - val_loss: 0.2580 - val_acc: 0.8870 - 20s/epoch - 197ms/step\n",
            "Epoch 12/30\n",
            "100/100 - 20s - loss: 0.3258 - acc: 0.8590 - val_loss: 0.2621 - val_acc: 0.8940 - 20s/epoch - 196ms/step\n",
            "Epoch 13/30\n",
            "100/100 - 20s - loss: 0.3207 - acc: 0.8625 - val_loss: 0.2572 - val_acc: 0.8930 - 20s/epoch - 196ms/step\n",
            "Epoch 14/30\n",
            "100/100 - 20s - loss: 0.3229 - acc: 0.8585 - val_loss: 0.2536 - val_acc: 0.8900 - 20s/epoch - 197ms/step\n",
            "Epoch 15/30\n",
            "100/100 - 20s - loss: 0.3025 - acc: 0.8695 - val_loss: 0.2485 - val_acc: 0.8940 - 20s/epoch - 196ms/step\n",
            "Epoch 16/30\n",
            "100/100 - 20s - loss: 0.3345 - acc: 0.8565 - val_loss: 0.2547 - val_acc: 0.8940 - 20s/epoch - 197ms/step\n",
            "Epoch 17/30\n",
            "100/100 - 20s - loss: 0.3146 - acc: 0.8720 - val_loss: 0.2454 - val_acc: 0.8920 - 20s/epoch - 196ms/step\n",
            "Epoch 18/30\n",
            "100/100 - 20s - loss: 0.3191 - acc: 0.8580 - val_loss: 0.2469 - val_acc: 0.8970 - 20s/epoch - 195ms/step\n",
            "Epoch 19/30\n",
            "100/100 - 20s - loss: 0.3034 - acc: 0.8640 - val_loss: 0.2471 - val_acc: 0.8960 - 20s/epoch - 195ms/step\n",
            "Epoch 20/30\n",
            "100/100 - 19s - loss: 0.3073 - acc: 0.8680 - val_loss: 0.2596 - val_acc: 0.8930 - 19s/epoch - 195ms/step\n",
            "Epoch 21/30\n",
            "100/100 - 19s - loss: 0.3000 - acc: 0.8685 - val_loss: 0.2441 - val_acc: 0.8960 - 19s/epoch - 195ms/step\n",
            "Epoch 22/30\n",
            "100/100 - 20s - loss: 0.2942 - acc: 0.8800 - val_loss: 0.2456 - val_acc: 0.8940 - 20s/epoch - 195ms/step\n",
            "Epoch 23/30\n",
            "100/100 - 20s - loss: 0.2954 - acc: 0.8705 - val_loss: 0.2392 - val_acc: 0.9050 - 20s/epoch - 196ms/step\n",
            "Epoch 24/30\n",
            "100/100 - 20s - loss: 0.3036 - acc: 0.8665 - val_loss: 0.2438 - val_acc: 0.8990 - 20s/epoch - 203ms/step\n",
            "Epoch 25/30\n",
            "100/100 - 20s - loss: 0.2926 - acc: 0.8745 - val_loss: 0.2442 - val_acc: 0.9000 - 20s/epoch - 195ms/step\n",
            "Epoch 26/30\n",
            "100/100 - 20s - loss: 0.2973 - acc: 0.8645 - val_loss: 0.2387 - val_acc: 0.8980 - 20s/epoch - 196ms/step\n",
            "Epoch 27/30\n",
            "100/100 - 20s - loss: 0.3031 - acc: 0.8695 - val_loss: 0.2439 - val_acc: 0.8990 - 20s/epoch - 196ms/step\n",
            "Epoch 28/30\n",
            "100/100 - 20s - loss: 0.2815 - acc: 0.8805 - val_loss: 0.2452 - val_acc: 0.8950 - 20s/epoch - 195ms/step\n",
            "Epoch 29/30\n",
            "100/100 - 20s - loss: 0.2800 - acc: 0.8790 - val_loss: 0.2422 - val_acc: 0.8960 - 20s/epoch - 196ms/step\n",
            "Epoch 30/30\n",
            "100/100 - 20s - loss: 0.2830 - acc: 0.8765 - val_loss: 0.2412 - val_acc: 0.9030 - 20s/epoch - 195ms/step\n"
          ]
        }
      ]
    },
    {
      "cell_type": "code",
      "source": [
        "import matplotlib.pyplot as plt"
      ],
      "metadata": {
        "id": "H1xDUE7mkwtQ"
      },
      "execution_count": null,
      "outputs": []
    },
    {
      "cell_type": "code",
      "source": [
        "acc = memoryM.history['acc']\n",
        "val_acc = memoryM.history['val_acc']\n",
        "loss = memoryM.history['loss']\n",
        "val_loss = memoryM.history['val_loss']\n",
        "epochs = range(len(acc))\n",
        "plt.plot(epochs, acc, 'bo', label='Training acc')\n",
        "plt.plot(epochs, val_acc, 'b', label='Validation acc')\n",
        "plt.title('Training and validation accuracy')\n",
        "plt.legend()\n",
        "plt.figure()\n",
        "plt.plot(epochs, loss, 'bo', label='Training loss')\n",
        "plt.plot(epochs, val_loss, 'b', label='Validation loss')\n",
        "plt.title('Training and validation loss')\n",
        "plt.legend()\n",
        "plt.show()"
      ],
      "metadata": {
        "id": "hUlD3iW_fCiM",
        "colab": {
          "base_uri": "https://localhost:8080/",
          "height": 545
        },
        "outputId": "0bc20d4d-9199-4cb0-a52a-206df5e5f6e8"
      },
      "execution_count": null,
      "outputs": [
        {
          "output_type": "display_data",
          "data": {
            "text/plain": [
              "<Figure size 432x288 with 1 Axes>"
            ],
            "image/png": "[encoded data removed]"
          },
          "metadata": {
            "needs_background": "light"
          }
        },
        {
          "output_type": "display_data",
          "data": {
            "text/plain": [
              "<Figure size 432x288 with 1 Axes>"
            ],
            "image/png": "[encoded data removed]"
          },
          "metadata": {
            "needs_background": "light"
          }
        }
      ]
    },
    {
      "cell_type": "markdown",
      "source": [
        "### Until here the procedure is exactly like before, but from now on you will see fine-tuning technique."
      ],
      "metadata": {
        "id": "D3udS1HifRRF"
      }
    },
    {
      "cell_type": "code",
      "source": [
        "conv_base.summary()"
      ],
      "metadata": {
        "id": "YJUYXfE4k0kl",
        "colab": {
          "base_uri": "https://localhost:8080/"
        },
        "outputId": "2f47129d-8b9e-4c0b-d85a-a24918657cdd"
      },
      "execution_count": null,
      "outputs": [
        {
          "output_type": "stream",
          "name": "stdout",
          "text": [
            "Model: \"vgg16\"\n",
            "_________________________________________________________________\n",
            " Layer (type)                Output Shape              Param #   \n",
            "=================================================================\n",
            " input_1 (InputLayer)        [(None, 150, 150, 3)]     0         \n",
            "                                                                 \n",
            " block1_conv1 (Conv2D)       (None, 150, 150, 64)      1792      \n",
            "                                                                 \n",
            " block1_conv2 (Conv2D)       (None, 150, 150, 64)      36928     \n",
            "                                                                 \n",
            " block1_pool (MaxPooling2D)  (None, 75, 75, 64)        0         \n",
            "                                                                 \n",
            " block2_conv1 (Conv2D)       (None, 75, 75, 128)       73856     \n",
            "                                                                 \n",
            " block2_conv2 (Conv2D)       (None, 75, 75, 128)       147584    \n",
            "                                                                 \n",
            " block2_pool (MaxPooling2D)  (None, 37, 37, 128)       0         \n",
            "                                                                 \n",
            " block3_conv1 (Conv2D)       (None, 37, 37, 256)       295168    \n",
            "                                                                 \n",
            " block3_conv2 (Conv2D)       (None, 37, 37, 256)       590080    \n",
            "                                                                 \n",
            " block3_conv3 (Conv2D)       (None, 37, 37, 256)       590080    \n",
            "                                                                 \n",
            " block3_pool (MaxPooling2D)  (None, 18, 18, 256)       0         \n",
            "                                                                 \n",
            " block4_conv1 (Conv2D)       (None, 18, 18, 512)       1180160   \n",
            "                                                                 \n",
            " block4_conv2 (Conv2D)       (None, 18, 18, 512)       2359808   \n",
            "                                                                 \n",
            " block4_conv3 (Conv2D)       (None, 18, 18, 512)       2359808   \n",
            "                                                                 \n",
            " block4_pool (MaxPooling2D)  (None, 9, 9, 512)         0         \n",
            "                                                                 \n",
            " block5_conv1 (Conv2D)       (None, 9, 9, 512)         2359808   \n",
            "                                                                 \n",
            " block5_conv2 (Conv2D)       (None, 9, 9, 512)         2359808   \n",
            "                                                                 \n",
            " block5_conv3 (Conv2D)       (None, 9, 9, 512)         2359808   \n",
            "                                                                 \n",
            " block5_pool (MaxPooling2D)  (None, 4, 4, 512)         0         \n",
            "                                                                 \n",
            "=================================================================\n",
            "Total params: 14,714,688\n",
            "Trainable params: 0\n",
            "Non-trainable params: 14,714,688\n",
            "_________________________________________________________________\n"
          ]
        }
      ]
    },
    {
      "cell_type": "code",
      "source": [
        "conv_base.trainable = True\n",
        "set_trainable = False\n",
        "for layer in conv_base.layers:\n",
        "    if layer.name == 'block5_conv1':\n",
        "        set_trainable = True\n",
        "    if set_trainable:\n",
        "        layer.trainable = True\n",
        "    else:\n",
        "        layer.trainable = False"
      ],
      "metadata": {
        "id": "Y2TcMs6rk4M9"
      },
      "execution_count": null,
      "outputs": []
    },
    {
      "cell_type": "code",
      "source": [
        "model.compile(loss='binary_crossentropy', optimizer=optimizers.RMSprop(learning_rate = 1e-5), metrics=['acc'])"
      ],
      "metadata": {
        "id": "1A7S9XEDk9_k"
      },
      "execution_count": null,
      "outputs": []
    },
    {
      "cell_type": "code",
      "source": [
        "memoryM1 = model.fit(\n",
        "      train_generator,\n",
        "      steps_per_epoch = 100,\n",
        "      epochs = 100,\n",
        "      validation_data = validation_generator,\n",
        "      validation_steps = 50)"
      ],
      "metadata": {
        "id": "ffOCwdFYlEA7",
        "colab": {
          "base_uri": "https://localhost:8080/"
        },
        "outputId": "3f60ca34-809c-4512-a3cc-73b3d05c2a15"
      },
      "execution_count": null,
      "outputs": [
        {
          "output_type": "stream",
          "name": "stdout",
          "text": [
            "Epoch 1/100\n",
            "100/100 [==============================] - 23s 209ms/step - loss: 0.3074 - acc: 0.8710 - val_loss: 0.2226 - val_acc: 0.9050\n",
            "Epoch 2/100\n",
            "100/100 [==============================] - 21s 209ms/step - loss: 0.2615 - acc: 0.8855 - val_loss: 0.2382 - val_acc: 0.9010\n",
            "Epoch 3/100\n",
            "100/100 [==============================] - 21s 207ms/step - loss: 0.2444 - acc: 0.8985 - val_loss: 0.1932 - val_acc: 0.9220\n",
            "Epoch 4/100\n",
            "100/100 [==============================] - 21s 207ms/step - loss: 0.2185 - acc: 0.9025 - val_loss: 0.1954 - val_acc: 0.9170\n",
            "Epoch 5/100\n",
            "100/100 [==============================] - 21s 208ms/step - loss: 0.2128 - acc: 0.9120 - val_loss: 0.1925 - val_acc: 0.9160\n",
            "Epoch 6/100\n",
            "100/100 [==============================] - 21s 206ms/step - loss: 0.2015 - acc: 0.9125 - val_loss: 0.1932 - val_acc: 0.9260\n",
            "Epoch 7/100\n",
            "100/100 [==============================] - 21s 207ms/step - loss: 0.1789 - acc: 0.9260 - val_loss: 0.1843 - val_acc: 0.9240\n",
            "Epoch 8/100\n",
            "100/100 [==============================] - 21s 207ms/step - loss: 0.1866 - acc: 0.9240 - val_loss: 0.2280 - val_acc: 0.9080\n",
            "Epoch 9/100\n",
            "100/100 [==============================] - 22s 216ms/step - loss: 0.1691 - acc: 0.9260 - val_loss: 0.1918 - val_acc: 0.9210\n",
            "Epoch 10/100\n",
            "100/100 [==============================] - 21s 207ms/step - loss: 0.1592 - acc: 0.9370 - val_loss: 0.1834 - val_acc: 0.9320\n",
            "Epoch 11/100\n",
            "100/100 [==============================] - 21s 205ms/step - loss: 0.1548 - acc: 0.9400 - val_loss: 0.2016 - val_acc: 0.9220\n",
            "Epoch 12/100\n",
            "100/100 [==============================] - 21s 206ms/step - loss: 0.1551 - acc: 0.9375 - val_loss: 0.1759 - val_acc: 0.9260\n",
            "Epoch 13/100\n",
            "100/100 [==============================] - 21s 207ms/step - loss: 0.1324 - acc: 0.9475 - val_loss: 0.2014 - val_acc: 0.9250\n",
            "Epoch 14/100\n",
            "100/100 [==============================] - 21s 207ms/step - loss: 0.1284 - acc: 0.9505 - val_loss: 0.2057 - val_acc: 0.9240\n",
            "Epoch 15/100\n",
            "100/100 [==============================] - 21s 206ms/step - loss: 0.1188 - acc: 0.9505 - val_loss: 0.2083 - val_acc: 0.9270\n",
            "Epoch 16/100\n",
            "100/100 [==============================] - 21s 206ms/step - loss: 0.1099 - acc: 0.9570 - val_loss: 0.2227 - val_acc: 0.9270\n",
            "Epoch 17/100\n",
            "100/100 [==============================] - 21s 208ms/step - loss: 0.1057 - acc: 0.9590 - val_loss: 0.1951 - val_acc: 0.9240\n",
            "Epoch 18/100\n",
            "100/100 [==============================] - 21s 206ms/step - loss: 0.1090 - acc: 0.9540 - val_loss: 0.2091 - val_acc: 0.9250\n",
            "Epoch 19/100\n",
            "100/100 [==============================] - 21s 207ms/step - loss: 0.0984 - acc: 0.9600 - val_loss: 0.2075 - val_acc: 0.9240\n",
            "Epoch 20/100\n",
            "100/100 [==============================] - 21s 207ms/step - loss: 0.1065 - acc: 0.9595 - val_loss: 0.1917 - val_acc: 0.9300\n",
            "Epoch 21/100\n",
            "100/100 [==============================] - 21s 207ms/step - loss: 0.0973 - acc: 0.9625 - val_loss: 0.2333 - val_acc: 0.9230\n",
            "Epoch 22/100\n",
            "100/100 [==============================] - 21s 206ms/step - loss: 0.0985 - acc: 0.9610 - val_loss: 0.2157 - val_acc: 0.9270\n",
            "Epoch 23/100\n",
            "100/100 [==============================] - 21s 214ms/step - loss: 0.0844 - acc: 0.9705 - val_loss: 0.1893 - val_acc: 0.9350\n",
            "Epoch 24/100\n",
            "100/100 [==============================] - 21s 206ms/step - loss: 0.0935 - acc: 0.9645 - val_loss: 0.2111 - val_acc: 0.9310\n",
            "Epoch 25/100\n",
            "100/100 [==============================] - 21s 206ms/step - loss: 0.0919 - acc: 0.9665 - val_loss: 0.2099 - val_acc: 0.9250\n",
            "Epoch 26/100\n",
            "100/100 [==============================] - 21s 206ms/step - loss: 0.0791 - acc: 0.9650 - val_loss: 0.2540 - val_acc: 0.9260\n",
            "Epoch 27/100\n",
            "100/100 [==============================] - 21s 206ms/step - loss: 0.0827 - acc: 0.9710 - val_loss: 0.2110 - val_acc: 0.9310\n",
            "Epoch 28/100\n",
            "100/100 [==============================] - 21s 207ms/step - loss: 0.0757 - acc: 0.9710 - val_loss: 0.2273 - val_acc: 0.9300\n",
            "Epoch 29/100\n",
            "100/100 [==============================] - 21s 207ms/step - loss: 0.0770 - acc: 0.9715 - val_loss: 0.2281 - val_acc: 0.9250\n",
            "Epoch 30/100\n",
            "100/100 [==============================] - 21s 206ms/step - loss: 0.0692 - acc: 0.9690 - val_loss: 0.2312 - val_acc: 0.9330\n",
            "Epoch 31/100\n",
            "100/100 [==============================] - 21s 207ms/step - loss: 0.0561 - acc: 0.9795 - val_loss: 0.2361 - val_acc: 0.9290\n",
            "Epoch 32/100\n",
            "100/100 [==============================] - 21s 207ms/step - loss: 0.0608 - acc: 0.9770 - val_loss: 0.2580 - val_acc: 0.9310\n",
            "Epoch 33/100\n",
            "100/100 [==============================] - 21s 206ms/step - loss: 0.0591 - acc: 0.9805 - val_loss: 0.2567 - val_acc: 0.9280\n",
            "Epoch 34/100\n",
            "100/100 [==============================] - 21s 206ms/step - loss: 0.0572 - acc: 0.9810 - val_loss: 0.2268 - val_acc: 0.9340\n",
            "Epoch 35/100\n",
            "100/100 [==============================] - 21s 205ms/step - loss: 0.0474 - acc: 0.9830 - val_loss: 0.3026 - val_acc: 0.9250\n",
            "Epoch 36/100\n",
            "100/100 [==============================] - 21s 207ms/step - loss: 0.0620 - acc: 0.9795 - val_loss: 0.2845 - val_acc: 0.9260\n",
            "Epoch 37/100\n",
            "100/100 [==============================] - 21s 214ms/step - loss: 0.0521 - acc: 0.9825 - val_loss: 0.2265 - val_acc: 0.9330\n",
            "Epoch 38/100\n",
            "100/100 [==============================] - 21s 207ms/step - loss: 0.0545 - acc: 0.9805 - val_loss: 0.2177 - val_acc: 0.9280\n",
            "Epoch 39/100\n",
            "100/100 [==============================] - 21s 206ms/step - loss: 0.0542 - acc: 0.9785 - val_loss: 0.2041 - val_acc: 0.9330\n",
            "Epoch 40/100\n",
            "100/100 [==============================] - 21s 207ms/step - loss: 0.0460 - acc: 0.9820 - val_loss: 0.3329 - val_acc: 0.9180\n",
            "Epoch 41/100\n",
            "100/100 [==============================] - 21s 206ms/step - loss: 0.0546 - acc: 0.9815 - val_loss: 0.2241 - val_acc: 0.9320\n",
            "Epoch 42/100\n",
            "100/100 [==============================] - 21s 207ms/step - loss: 0.0461 - acc: 0.9840 - val_loss: 0.3089 - val_acc: 0.9230\n",
            "Epoch 43/100\n",
            "100/100 [==============================] - 21s 207ms/step - loss: 0.0477 - acc: 0.9820 - val_loss: 0.2838 - val_acc: 0.9320\n",
            "Epoch 44/100\n",
            "100/100 [==============================] - 21s 206ms/step - loss: 0.0551 - acc: 0.9810 - val_loss: 0.2830 - val_acc: 0.9220\n",
            "Epoch 45/100\n",
            "100/100 [==============================] - 21s 206ms/step - loss: 0.0476 - acc: 0.9840 - val_loss: 0.2787 - val_acc: 0.9280\n",
            "Epoch 46/100\n",
            "100/100 [==============================] - 21s 208ms/step - loss: 0.0480 - acc: 0.9810 - val_loss: 0.2448 - val_acc: 0.9200\n",
            "Epoch 47/100\n",
            "100/100 [==============================] - 21s 207ms/step - loss: 0.0418 - acc: 0.9850 - val_loss: 0.2405 - val_acc: 0.9290\n",
            "Epoch 48/100\n",
            "100/100 [==============================] - 21s 206ms/step - loss: 0.0476 - acc: 0.9845 - val_loss: 0.2660 - val_acc: 0.9340\n",
            "Epoch 49/100\n",
            "100/100 [==============================] - 21s 206ms/step - loss: 0.0420 - acc: 0.9885 - val_loss: 0.3100 - val_acc: 0.9240\n",
            "Epoch 50/100\n",
            "100/100 [==============================] - 21s 206ms/step - loss: 0.0608 - acc: 0.9825 - val_loss: 0.2544 - val_acc: 0.9220\n",
            "Epoch 51/100\n",
            "100/100 [==============================] - 21s 215ms/step - loss: 0.0339 - acc: 0.9880 - val_loss: 0.2450 - val_acc: 0.9350\n",
            "Epoch 52/100\n",
            "100/100 [==============================] - 21s 207ms/step - loss: 0.0426 - acc: 0.9860 - val_loss: 0.2992 - val_acc: 0.9320\n",
            "Epoch 53/100\n",
            "100/100 [==============================] - 21s 207ms/step - loss: 0.0395 - acc: 0.9870 - val_loss: 0.2524 - val_acc: 0.9280\n",
            "Epoch 54/100\n",
            "100/100 [==============================] - 21s 206ms/step - loss: 0.0248 - acc: 0.9920 - val_loss: 0.3556 - val_acc: 0.9320\n",
            "Epoch 55/100\n",
            "100/100 [==============================] - 21s 207ms/step - loss: 0.0384 - acc: 0.9885 - val_loss: 0.2927 - val_acc: 0.9290\n",
            "Epoch 56/100\n",
            "100/100 [==============================] - 20s 205ms/step - loss: 0.0344 - acc: 0.9850 - val_loss: 0.2465 - val_acc: 0.9330\n",
            "Epoch 57/100\n",
            "100/100 [==============================] - 21s 206ms/step - loss: 0.0353 - acc: 0.9900 - val_loss: 0.3313 - val_acc: 0.9290\n",
            "Epoch 58/100\n",
            "100/100 [==============================] - 21s 207ms/step - loss: 0.0260 - acc: 0.9905 - val_loss: 0.4553 - val_acc: 0.9180\n",
            "Epoch 59/100\n",
            "100/100 [==============================] - 21s 207ms/step - loss: 0.0286 - acc: 0.9925 - val_loss: 0.3213 - val_acc: 0.9300\n",
            "Epoch 60/100\n",
            "100/100 [==============================] - 21s 206ms/step - loss: 0.0255 - acc: 0.9930 - val_loss: 0.3654 - val_acc: 0.9310\n",
            "Epoch 61/100\n",
            "100/100 [==============================] - 21s 208ms/step - loss: 0.0289 - acc: 0.9885 - val_loss: 0.2647 - val_acc: 0.9340\n",
            "Epoch 62/100\n",
            "100/100 [==============================] - 21s 206ms/step - loss: 0.0311 - acc: 0.9880 - val_loss: 0.2858 - val_acc: 0.9380\n",
            "Epoch 63/100\n",
            "100/100 [==============================] - 21s 207ms/step - loss: 0.0318 - acc: 0.9865 - val_loss: 0.2958 - val_acc: 0.9290\n",
            "Epoch 64/100\n",
            "100/100 [==============================] - 21s 206ms/step - loss: 0.0297 - acc: 0.9905 - val_loss: 0.3159 - val_acc: 0.9290\n",
            "Epoch 65/100\n",
            "100/100 [==============================] - 21s 215ms/step - loss: 0.0259 - acc: 0.9915 - val_loss: 0.2816 - val_acc: 0.9330\n",
            "Epoch 66/100\n",
            "100/100 [==============================] - 21s 206ms/step - loss: 0.0294 - acc: 0.9895 - val_loss: 0.3364 - val_acc: 0.9300\n",
            "Epoch 67/100\n",
            "100/100 [==============================] - 21s 207ms/step - loss: 0.0261 - acc: 0.9920 - val_loss: 0.3127 - val_acc: 0.9290\n",
            "Epoch 68/100\n",
            "100/100 [==============================] - 21s 207ms/step - loss: 0.0216 - acc: 0.9950 - val_loss: 0.2845 - val_acc: 0.9330\n",
            "Epoch 69/100\n",
            "100/100 [==============================] - 21s 206ms/step - loss: 0.0206 - acc: 0.9935 - val_loss: 0.4930 - val_acc: 0.9190\n",
            "Epoch 70/100\n",
            "100/100 [==============================] - 21s 206ms/step - loss: 0.0246 - acc: 0.9895 - val_loss: 0.2947 - val_acc: 0.9280\n",
            "Epoch 71/100\n",
            "100/100 [==============================] - 21s 206ms/step - loss: 0.0227 - acc: 0.9915 - val_loss: 0.3284 - val_acc: 0.9340\n",
            "Epoch 72/100\n",
            "100/100 [==============================] - 21s 206ms/step - loss: 0.0208 - acc: 0.9925 - val_loss: 0.3184 - val_acc: 0.9290\n",
            "Epoch 73/100\n",
            "100/100 [==============================] - 21s 206ms/step - loss: 0.0224 - acc: 0.9925 - val_loss: 0.3064 - val_acc: 0.9320\n",
            "Epoch 74/100\n",
            "100/100 [==============================] - 21s 207ms/step - loss: 0.0248 - acc: 0.9915 - val_loss: 0.3550 - val_acc: 0.9270\n",
            "Epoch 75/100\n",
            "100/100 [==============================] - 21s 206ms/step - loss: 0.0215 - acc: 0.9935 - val_loss: 0.3016 - val_acc: 0.9330\n",
            "Epoch 76/100\n",
            "100/100 [==============================] - 21s 208ms/step - loss: 0.0191 - acc: 0.9930 - val_loss: 0.3635 - val_acc: 0.9290\n",
            "Epoch 77/100\n",
            "100/100 [==============================] - 20s 205ms/step - loss: 0.0157 - acc: 0.9945 - val_loss: 0.3560 - val_acc: 0.9400\n",
            "Epoch 78/100\n",
            "100/100 [==============================] - 21s 206ms/step - loss: 0.0298 - acc: 0.9905 - val_loss: 0.3830 - val_acc: 0.9280\n",
            "Epoch 79/100\n",
            "100/100 [==============================] - 21s 207ms/step - loss: 0.0225 - acc: 0.9890 - val_loss: 0.4405 - val_acc: 0.9280\n",
            "Epoch 80/100\n",
            "100/100 [==============================] - 21s 214ms/step - loss: 0.0253 - acc: 0.9915 - val_loss: 0.4327 - val_acc: 0.9190\n",
            "Epoch 81/100\n",
            "100/100 [==============================] - 21s 207ms/step - loss: 0.0191 - acc: 0.9915 - val_loss: 0.4630 - val_acc: 0.9280\n",
            "Epoch 82/100\n",
            "100/100 [==============================] - 21s 208ms/step - loss: 0.0221 - acc: 0.9915 - val_loss: 0.6470 - val_acc: 0.9080\n",
            "Epoch 83/100\n",
            "100/100 [==============================] - 21s 207ms/step - loss: 0.0202 - acc: 0.9915 - val_loss: 0.3282 - val_acc: 0.9310\n",
            "Epoch 84/100\n",
            "100/100 [==============================] - 21s 206ms/step - loss: 0.0198 - acc: 0.9920 - val_loss: 0.3395 - val_acc: 0.9330\n",
            "Epoch 85/100\n",
            "100/100 [==============================] - 21s 206ms/step - loss: 0.0209 - acc: 0.9910 - val_loss: 0.4159 - val_acc: 0.9280\n",
            "Epoch 86/100\n",
            "100/100 [==============================] - 21s 207ms/step - loss: 0.0184 - acc: 0.9955 - val_loss: 0.3518 - val_acc: 0.9320\n",
            "Epoch 87/100\n",
            "100/100 [==============================] - 21s 207ms/step - loss: 0.0113 - acc: 0.9955 - val_loss: 0.3748 - val_acc: 0.9300\n",
            "Epoch 88/100\n",
            "100/100 [==============================] - 21s 207ms/step - loss: 0.0322 - acc: 0.9870 - val_loss: 0.3991 - val_acc: 0.9270\n",
            "Epoch 89/100\n",
            "100/100 [==============================] - 21s 207ms/step - loss: 0.0179 - acc: 0.9940 - val_loss: 0.3210 - val_acc: 0.9340\n",
            "Epoch 90/100\n",
            "100/100 [==============================] - 21s 207ms/step - loss: 0.0137 - acc: 0.9950 - val_loss: 0.4162 - val_acc: 0.9330\n",
            "Epoch 91/100\n",
            "100/100 [==============================] - 21s 208ms/step - loss: 0.0160 - acc: 0.9960 - val_loss: 0.4542 - val_acc: 0.9270\n",
            "Epoch 92/100\n",
            "100/100 [==============================] - 21s 207ms/step - loss: 0.0190 - acc: 0.9940 - val_loss: 0.3575 - val_acc: 0.9400\n",
            "Epoch 93/100\n",
            "100/100 [==============================] - 21s 207ms/step - loss: 0.0242 - acc: 0.9930 - val_loss: 0.4120 - val_acc: 0.9310\n",
            "Epoch 94/100\n",
            "100/100 [==============================] - 21s 214ms/step - loss: 0.0155 - acc: 0.9950 - val_loss: 0.3203 - val_acc: 0.9370\n",
            "Epoch 95/100\n",
            "100/100 [==============================] - 21s 206ms/step - loss: 0.0114 - acc: 0.9960 - val_loss: 0.3645 - val_acc: 0.9320\n",
            "Epoch 96/100\n",
            "100/100 [==============================] - 21s 206ms/step - loss: 0.0175 - acc: 0.9930 - val_loss: 0.3584 - val_acc: 0.9300\n",
            "Epoch 97/100\n",
            "100/100 [==============================] - 21s 207ms/step - loss: 0.0173 - acc: 0.9950 - val_loss: 0.5568 - val_acc: 0.9230\n",
            "Epoch 98/100\n",
            "100/100 [==============================] - 21s 206ms/step - loss: 0.0202 - acc: 0.9920 - val_loss: 0.4433 - val_acc: 0.9250\n",
            "Epoch 99/100\n",
            "100/100 [==============================] - 21s 206ms/step - loss: 0.0242 - acc: 0.9920 - val_loss: 0.3741 - val_acc: 0.9260\n",
            "Epoch 100/100\n",
            "100/100 [==============================] - 21s 206ms/step - loss: 0.0184 - acc: 0.9935 - val_loss: 0.3977 - val_acc: 0.9310\n"
          ]
        }
      ]
    },
    {
      "cell_type": "code",
      "source": [
        "model.save('cats_and_dogs_transferL4.h5')"
      ],
      "metadata": {
        "id": "Gse66ZMhlNO6"
      },
      "execution_count": null,
      "outputs": []
    },
    {
      "cell_type": "code",
      "source": [
        "acc = memoryM1.history['acc']\n",
        "val_acc = memoryM1.history['val_acc']\n",
        "loss = memoryM1.history['loss']\n",
        "val_loss = memoryM1.history['val_loss']\n",
        "epochs = range(len(acc))\n",
        "plt.plot(epochs, acc, 'bo', label='Training acc')\n",
        "plt.plot(epochs, val_acc, 'b', label='Validation acc')\n",
        "plt.title('Training and validation accuracy')\n",
        "plt.legend()\n",
        "plt.figure()\n",
        "plt.plot(epochs, loss, 'bo', label='Training loss')\n",
        "plt.plot(epochs, val_loss, 'b', label='Validation loss')\n",
        "plt.title('Training and validation loss')\n",
        "plt.legend()\n",
        "plt.show()"
      ],
      "metadata": {
        "id": "TaSfSKl_t6eg",
        "colab": {
          "base_uri": "https://localhost:8080/",
          "height": 545
        },
        "outputId": "356e485b-260a-4369-f847-75c8042a5339"
      },
      "execution_count": null,
      "outputs": [
        {
          "output_type": "display_data",
          "data": {
            "text/plain": [
              "<Figure size 432x288 with 1 Axes>"
            ],
            "image/png": "[encoded data removed]"
          },
          "metadata": {
            "needs_background": "light"
          }
        },
        {
          "output_type": "display_data",
          "data": {
            "text/plain": [
              "<Figure size 432x288 with 1 Axes>"
            ],
            "image/png": "[encoded data removed]"
          },
          "metadata": {
            "needs_background": "light"
          }
        }
      ]
    },
    {
      "cell_type": "code",
      "source": [
        "def smooth_curve(points, factor=0.8):\n",
        "  smoothed_points = []\n",
        "  for point in points:\n",
        "    if smoothed_points:\n",
        "      previous = smoothed_points[-1]\n",
        "      smoothed_points.append(previous * factor + point * (1 - factor))\n",
        "    else:\n",
        "      smoothed_points.append(point)\n",
        "  return smoothed_points"
      ],
      "metadata": {
        "id": "jc6feUKuuXKd"
      },
      "execution_count": null,
      "outputs": []
    },
    {
      "cell_type": "code",
      "source": [
        "plt.plot(epochs, smooth_curve(acc), 'bo', label='Smoothed training acc')\n",
        "plt.plot(epochs, smooth_curve(val_acc), 'b', label='Smoothed validation acc')\n",
        "plt.title('Training and validation accuracy')\n",
        "plt.legend()\n",
        "plt.figure()\n",
        "plt.plot(epochs, smooth_curve(loss), 'bo', label='Smoothed training loss')\n",
        "plt.plot(epochs, smooth_curve(val_loss), 'b', label='Smoothed validation loss')\n",
        "plt.title('Training and validation loss')\n",
        "plt.legend()\n",
        "plt.show()"
      ],
      "metadata": {
        "id": "tAcre8sVuEXi",
        "colab": {
          "base_uri": "https://localhost:8080/",
          "height": 545
        },
        "outputId": "ed4a9c61-fbe7-4398-a41b-046199737fab"
      },
      "execution_count": null,
      "outputs": [
        {
          "output_type": "display_data",
          "data": {
            "text/plain": [
              "<Figure size 432x288 with 1 Axes>"
            ],
            "image/png": "[encoded data removed]"
          },
          "metadata": {
            "needs_background": "light"
          }
        },
        {
          "output_type": "display_data",
          "data": {
            "text/plain": [
              "<Figure size 432x288 with 1 Axes>"
            ],
            "image/png": "[encoded data removed]"
          },
          "metadata": {
            "needs_background": "light"
          }
        }
      ]
    },
    {
      "cell_type": "code",
      "source": [
        "test_generator = test_datagenerator.flow_from_directory(\n",
        "        '/content/test',\n",
        "        target_size=(150, 150),\n",
        "        batch_size=20,\n",
        "        class_mode='binary')"
      ],
      "metadata": {
        "id": "4mzyowNQzR5m",
        "colab": {
          "base_uri": "https://localhost:8080/"
        },
        "outputId": "55084c25-06a1-46cc-9e55-8d0d8f8f33dd"
      },
      "execution_count": null,
      "outputs": [
        {
          "output_type": "stream",
          "name": "stdout",
          "text": [
            "Found 1000 images belonging to 2 classes.\n"
          ]
        }
      ]
    },
    {
      "cell_type": "code",
      "source": [
        "test_loss, test_acc = model.evaluate_generator(test_generator, steps=50)\n",
        "print('test acc:', test_acc)"
      ],
      "metadata": {
        "id": "78n3H7K9zVLS",
        "colab": {
          "base_uri": "https://localhost:8080/"
        },
        "outputId": "c8047d66-3ea2-42dd-a996-7697256f5c84"
      },
      "execution_count": null,
      "outputs": [
        {
          "output_type": "stream",
          "name": "stderr",
          "text": [
            "/usr/local/lib/python3.7/dist-packages/ipykernel_launcher.py:1: UserWarning: `Model.evaluate_generator` is deprecated and will be removed in a future version. Please use `Model.evaluate`, which supports generators.\n",
            "  \"\"\"Entry point for launching an IPython kernel.\n"
          ]
        },
        {
          "output_type": "stream",
          "name": "stdout",
          "text": [
            "test acc: 0.9340000152587891\n"
          ]
        }
      ]
    }
  ]
}