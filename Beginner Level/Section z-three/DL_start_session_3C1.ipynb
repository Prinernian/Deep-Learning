{
  "cells": [
    {
      "cell_type": "markdown",
      "metadata": {
        "id": "yFD7Lh691GWq"
      },
      "source": [
        "### We will discuss transfer learning in this session. \n",
        "#### Also we will work with feature extraction to see transfer learning in action."
      ]
    },
    {
      "cell_type": "code",
      "execution_count": 1,
      "metadata": {
        "id": "UnzO4VPI0L3Q"
      },
      "outputs": [],
      "source": [
        "import keras"
      ]
    },
    {
      "cell_type": "code",
      "execution_count": 2,
      "metadata": {
        "id": "wH9a-P8Z1ieA",
        "colab": {
          "base_uri": "https://localhost:8080/"
        },
        "outputId": "222a616a-d05b-4912-c4ed-d872a6f875e8"
      },
      "outputs": [
        {
          "output_type": "stream",
          "name": "stdout",
          "text": [
            "Downloading data from https://storage.googleapis.com/tensorflow/keras-applications/vgg16/vgg16_weights_tf_dim_ordering_tf_kernels_notop.h5\n",
            "58892288/58889256 [==============================] - 0s 0us/step\n",
            "58900480/58889256 [==============================] - 0s 0us/step\n"
          ]
        }
      ],
      "source": [
        "from keras.applications.vgg16 import VGG16\n",
        "conv_base = VGG16(weights='imagenet', include_top=False, input_shape=(150, 150, 3))"
      ]
    },
    {
      "cell_type": "code",
      "execution_count": 3,
      "metadata": {
        "colab": {
          "base_uri": "https://localhost:8080/"
        },
        "id": "tcrK97n41nwl",
        "outputId": "0eb1c58e-494e-434b-8666-6f58e2126326"
      },
      "outputs": [
        {
          "output_type": "stream",
          "name": "stdout",
          "text": [
            "Model: \"vgg16\"\n",
            "_________________________________________________________________\n",
            " Layer (type)                Output Shape              Param #   \n",
            "=================================================================\n",
            " input_1 (InputLayer)        [(None, 150, 150, 3)]     0         \n",
            "                                                                 \n",
            " block1_conv1 (Conv2D)       (None, 150, 150, 64)      1792      \n",
            "                                                                 \n",
            " block1_conv2 (Conv2D)       (None, 150, 150, 64)      36928     \n",
            "                                                                 \n",
            " block1_pool (MaxPooling2D)  (None, 75, 75, 64)        0         \n",
            "                                                                 \n",
            " block2_conv1 (Conv2D)       (None, 75, 75, 128)       73856     \n",
            "                                                                 \n",
            " block2_conv2 (Conv2D)       (None, 75, 75, 128)       147584    \n",
            "                                                                 \n",
            " block2_pool (MaxPooling2D)  (None, 37, 37, 128)       0         \n",
            "                                                                 \n",
            " block3_conv1 (Conv2D)       (None, 37, 37, 256)       295168    \n",
            "                                                                 \n",
            " block3_conv2 (Conv2D)       (None, 37, 37, 256)       590080    \n",
            "                                                                 \n",
            " block3_conv3 (Conv2D)       (None, 37, 37, 256)       590080    \n",
            "                                                                 \n",
            " block3_pool (MaxPooling2D)  (None, 18, 18, 256)       0         \n",
            "                                                                 \n",
            " block4_conv1 (Conv2D)       (None, 18, 18, 512)       1180160   \n",
            "                                                                 \n",
            " block4_conv2 (Conv2D)       (None, 18, 18, 512)       2359808   \n",
            "                                                                 \n",
            " block4_conv3 (Conv2D)       (None, 18, 18, 512)       2359808   \n",
            "                                                                 \n",
            " block4_pool (MaxPooling2D)  (None, 9, 9, 512)         0         \n",
            "                                                                 \n",
            " block5_conv1 (Conv2D)       (None, 9, 9, 512)         2359808   \n",
            "                                                                 \n",
            " block5_conv2 (Conv2D)       (None, 9, 9, 512)         2359808   \n",
            "                                                                 \n",
            " block5_conv3 (Conv2D)       (None, 9, 9, 512)         2359808   \n",
            "                                                                 \n",
            " block5_pool (MaxPooling2D)  (None, 4, 4, 512)         0         \n",
            "                                                                 \n",
            "=================================================================\n",
            "Total params: 14,714,688\n",
            "Trainable params: 14,714,688\n",
            "Non-trainable params: 0\n",
            "_________________________________________________________________\n"
          ]
        }
      ],
      "source": [
        "conv_base.summary()"
      ]
    },
    {
      "cell_type": "code",
      "execution_count": null,
      "metadata": {
        "id": "FkYK86tX2TRA"
      },
      "outputs": [],
      "source": [
        "!unzip /content/train.zip\n",
        "!unzip /content/validation.zip\n",
        "!unzip /content/test.zip"
      ]
    },
    {
      "cell_type": "code",
      "execution_count": 5,
      "metadata": {
        "id": "IvGW2AoE1uqR"
      },
      "outputs": [],
      "source": [
        "import os\n",
        "import numpy as np\n",
        "from keras.preprocessing.image import ImageDataGenerator"
      ]
    },
    {
      "cell_type": "code",
      "execution_count": 6,
      "metadata": {
        "id": "U2So8i4k2PmF"
      },
      "outputs": [],
      "source": [
        "datagenerator = ImageDataGenerator(rescale=1./255)\n",
        "batch_size = 20"
      ]
    },
    {
      "cell_type": "code",
      "execution_count": 7,
      "metadata": {
        "id": "mHv66AKD2rOy"
      },
      "outputs": [],
      "source": [
        "def extract_features(directory, sample_count):\n",
        "    features = np.zeros(shape=(sample_count, 4, 4, 512))\n",
        "    labels = np.zeros(shape=(sample_count))\n",
        "    generator = datagenerator.flow_from_directory(\n",
        "        directory,\n",
        "        target_size=(150, 150),\n",
        "        batch_size=batch_size,\n",
        "        class_mode='binary')\n",
        "    i = 0\n",
        "    for inputs_batch, labels_batch in generator:\n",
        "        features_batch = conv_base.predict(inputs_batch)\n",
        "        features[i * batch_size : (i + 1) * batch_size] = features_batch\n",
        "        labels[i * batch_size : (i + 1) * batch_size] = labels_batch\n",
        "        i += 1\n",
        "        if i * batch_size >= sample_count:\n",
        "            # Note that since generators yield data indefinitely in a loop,\n",
        "            # we must `break` after every image has been seen once.\n",
        "            break\n",
        "    return features, labels"
      ]
    },
    {
      "cell_type": "code",
      "execution_count": 8,
      "metadata": {
        "colab": {
          "base_uri": "https://localhost:8080/"
        },
        "id": "EW4d8VOH4CZe",
        "outputId": "d7e5f68f-c483-4872-8bfa-3669b0bf379b"
      },
      "outputs": [
        {
          "output_type": "stream",
          "name": "stdout",
          "text": [
            "Found 1000 images belonging to 2 classes.\n",
            "Found 2000 images belonging to 2 classes.\n",
            "Found 1000 images belonging to 2 classes.\n"
          ]
        }
      ],
      "source": [
        "test_features, test_labels = extract_features('/content/test', 1000)\n",
        "train_features, train_labels = extract_features('/content/train', 2000)\n",
        "validation_features, validation_labels = extract_features('/content/validation', 1000)"
      ]
    },
    {
      "cell_type": "code",
      "source": [
        "print(validation_features.shape)\n",
        "print(validation_labels.shape)"
      ],
      "metadata": {
        "colab": {
          "base_uri": "https://localhost:8080/"
        },
        "id": "i5lR_L-xUXiN",
        "outputId": "df6e5f04-5917-4516-f23e-5373eb9e4f4b"
      },
      "execution_count": 32,
      "outputs": [
        {
          "output_type": "stream",
          "name": "stdout",
          "text": [
            "(1000, 4, 4, 512)\n",
            "(1000,)\n"
          ]
        }
      ]
    },
    {
      "cell_type": "code",
      "source": [
        "train_features = np.reshape(train_features, (2000, 4 * 4 * 512))\n",
        "validation_features = np.reshape(validation_features, (1000, 4 * 4 * 512))\n",
        "test_features = np.reshape(test_features, (1000, 4 * 4 * 512))"
      ],
      "metadata": {
        "id": "fttfl6ASaOg1"
      },
      "execution_count": 47,
      "outputs": []
    },
    {
      "cell_type": "code",
      "execution_count": 48,
      "metadata": {
        "id": "PWIqJ8Qg5sHh"
      },
      "outputs": [],
      "source": [
        "from keras import models\n",
        "from keras import layers\n",
        "from keras import optimizers"
      ]
    },
    {
      "cell_type": "code",
      "execution_count": 49,
      "metadata": {
        "id": "wl9Zbtrn5u5n"
      },
      "outputs": [],
      "source": [
        "model = models.Sequential()\n",
        "model.add(layers.Dense(256, activation='relu', input_dim=4 * 4 * 512))\n",
        "model.add(layers.Dropout(0.5))\n",
        "model.add(layers.Dense(1, activation='sigmoid'))"
      ]
    },
    {
      "cell_type": "code",
      "source": [
        "from tensorflow.keras import optimizers"
      ],
      "metadata": {
        "id": "huYMqy44Tnq6"
      },
      "execution_count": 50,
      "outputs": []
    },
    {
      "cell_type": "code",
      "execution_count": 51,
      "metadata": {
        "id": "Lrugq9JX5xcL"
      },
      "outputs": [],
      "source": [
        "model.compile(optimizer=optimizers.RMSprop(learning_rate=2e-5), loss='binary_crossentropy', metrics=['acc'])"
      ]
    },
    {
      "cell_type": "code",
      "source": [
        "print(train_features.shape)\n",
        "print(train_labels.shape)"
      ],
      "metadata": {
        "colab": {
          "base_uri": "https://localhost:8080/"
        },
        "id": "JIXYgw32X21N",
        "outputId": "3c780bda-13c8-464a-e021-237e9cca461f"
      },
      "execution_count": 52,
      "outputs": [
        {
          "output_type": "stream",
          "name": "stdout",
          "text": [
            "(2000, 8192)\n",
            "(2000,)\n"
          ]
        }
      ]
    },
    {
      "cell_type": "code",
      "execution_count": 53,
      "metadata": {
        "id": "GMsheFb452bf",
        "colab": {
          "base_uri": "https://localhost:8080/"
        },
        "outputId": "4f69e16d-23f8-427e-b9b4-be9b13e3409e"
      },
      "outputs": [
        {
          "output_type": "stream",
          "name": "stdout",
          "text": [
            "Epoch 1/30\n",
            "100/100 [==============================] - 2s 6ms/step - loss: 0.6084 - acc: 0.6575 - val_loss: 0.4329 - val_acc: 0.8510\n",
            "Epoch 2/30\n",
            "100/100 [==============================] - 0s 4ms/step - loss: 0.4140 - acc: 0.8130 - val_loss: 0.3603 - val_acc: 0.8600\n",
            "Epoch 3/30\n",
            "100/100 [==============================] - 0s 4ms/step - loss: 0.3460 - acc: 0.8540 - val_loss: 0.3209 - val_acc: 0.8790\n",
            "Epoch 4/30\n",
            "100/100 [==============================] - 0s 4ms/step - loss: 0.3047 - acc: 0.8760 - val_loss: 0.2918 - val_acc: 0.8820\n",
            "Epoch 5/30\n",
            "100/100 [==============================] - 0s 5ms/step - loss: 0.2859 - acc: 0.8905 - val_loss: 0.2822 - val_acc: 0.8930\n",
            "Epoch 6/30\n",
            "100/100 [==============================] - 1s 5ms/step - loss: 0.2665 - acc: 0.8935 - val_loss: 0.2695 - val_acc: 0.8910\n",
            "Epoch 7/30\n",
            "100/100 [==============================] - 0s 5ms/step - loss: 0.2464 - acc: 0.8995 - val_loss: 0.2643 - val_acc: 0.8960\n",
            "Epoch 8/30\n",
            "100/100 [==============================] - 0s 5ms/step - loss: 0.2357 - acc: 0.9025 - val_loss: 0.2677 - val_acc: 0.8710\n",
            "Epoch 9/30\n",
            "100/100 [==============================] - 0s 4ms/step - loss: 0.2194 - acc: 0.9180 - val_loss: 0.2561 - val_acc: 0.8840\n",
            "Epoch 10/30\n",
            "100/100 [==============================] - 0s 4ms/step - loss: 0.2051 - acc: 0.9205 - val_loss: 0.2516 - val_acc: 0.8880\n",
            "Epoch 11/30\n",
            "100/100 [==============================] - 0s 5ms/step - loss: 0.1989 - acc: 0.9255 - val_loss: 0.2456 - val_acc: 0.8950\n",
            "Epoch 12/30\n",
            "100/100 [==============================] - 0s 4ms/step - loss: 0.1946 - acc: 0.9265 - val_loss: 0.2594 - val_acc: 0.8990\n",
            "Epoch 13/30\n",
            "100/100 [==============================] - 0s 4ms/step - loss: 0.1814 - acc: 0.9325 - val_loss: 0.2424 - val_acc: 0.8960\n",
            "Epoch 14/30\n",
            "100/100 [==============================] - 0s 4ms/step - loss: 0.1825 - acc: 0.9330 - val_loss: 0.2432 - val_acc: 0.8890\n",
            "Epoch 15/30\n",
            "100/100 [==============================] - 0s 4ms/step - loss: 0.1624 - acc: 0.9460 - val_loss: 0.2385 - val_acc: 0.8940\n",
            "Epoch 16/30\n",
            "100/100 [==============================] - 0s 5ms/step - loss: 0.1595 - acc: 0.9410 - val_loss: 0.2351 - val_acc: 0.9020\n",
            "Epoch 17/30\n",
            "100/100 [==============================] - 0s 5ms/step - loss: 0.1524 - acc: 0.9500 - val_loss: 0.2387 - val_acc: 0.8970\n",
            "Epoch 18/30\n",
            "100/100 [==============================] - 0s 4ms/step - loss: 0.1480 - acc: 0.9460 - val_loss: 0.2334 - val_acc: 0.9030\n",
            "Epoch 19/30\n",
            "100/100 [==============================] - 0s 4ms/step - loss: 0.1405 - acc: 0.9545 - val_loss: 0.2343 - val_acc: 0.9010\n",
            "Epoch 20/30\n",
            "100/100 [==============================] - 0s 5ms/step - loss: 0.1323 - acc: 0.9545 - val_loss: 0.2344 - val_acc: 0.9000\n",
            "Epoch 21/30\n",
            "100/100 [==============================] - 0s 4ms/step - loss: 0.1278 - acc: 0.9560 - val_loss: 0.2329 - val_acc: 0.8990\n",
            "Epoch 22/30\n",
            "100/100 [==============================] - 0s 5ms/step - loss: 0.1222 - acc: 0.9600 - val_loss: 0.2321 - val_acc: 0.9050\n",
            "Epoch 23/30\n",
            "100/100 [==============================] - 0s 5ms/step - loss: 0.1143 - acc: 0.9670 - val_loss: 0.2328 - val_acc: 0.9020\n",
            "Epoch 24/30\n",
            "100/100 [==============================] - 0s 5ms/step - loss: 0.1123 - acc: 0.9665 - val_loss: 0.2328 - val_acc: 0.9020\n",
            "Epoch 25/30\n",
            "100/100 [==============================] - 0s 5ms/step - loss: 0.1170 - acc: 0.9610 - val_loss: 0.2331 - val_acc: 0.9050\n",
            "Epoch 26/30\n",
            "100/100 [==============================] - 0s 4ms/step - loss: 0.1035 - acc: 0.9705 - val_loss: 0.2326 - val_acc: 0.9010\n",
            "Epoch 27/30\n",
            "100/100 [==============================] - 0s 5ms/step - loss: 0.1010 - acc: 0.9730 - val_loss: 0.2356 - val_acc: 0.9020\n",
            "Epoch 28/30\n",
            "100/100 [==============================] - 0s 4ms/step - loss: 0.0995 - acc: 0.9720 - val_loss: 0.2378 - val_acc: 0.9060\n",
            "Epoch 29/30\n",
            "100/100 [==============================] - 0s 5ms/step - loss: 0.0931 - acc: 0.9725 - val_loss: 0.2483 - val_acc: 0.8980\n",
            "Epoch 30/30\n",
            "100/100 [==============================] - 0s 4ms/step - loss: 0.0856 - acc: 0.9795 - val_loss: 0.2350 - val_acc: 0.9010\n"
          ]
        }
      ],
      "source": [
        "memoryM = model.fit(train_features, \n",
        "                    train_labels, \n",
        "                    epochs = 30, \n",
        "                    batch_size = 20, validation_data=(validation_features, validation_labels))"
      ]
    },
    {
      "cell_type": "code",
      "execution_count": 54,
      "metadata": {
        "id": "Ccr3NBIU6KBJ"
      },
      "outputs": [],
      "source": [
        "import matplotlib.pyplot as plt\n",
        "acc = memoryM.history['acc']\n",
        "val_acc = memoryM.history['val_acc']\n",
        "loss = memoryM.history['loss']\n",
        "val_loss = memoryM.history['val_loss']"
      ]
    },
    {
      "cell_type": "code",
      "execution_count": 55,
      "metadata": {
        "id": "qOpLr6XL55yr"
      },
      "outputs": [],
      "source": [
        "epochs = range(len(acc))"
      ]
    },
    {
      "cell_type": "code",
      "execution_count": 56,
      "metadata": {
        "id": "KCrwG8SE6PBy",
        "colab": {
          "base_uri": "https://localhost:8080/",
          "height": 545
        },
        "outputId": "7c5383fb-7e7b-44f5-ded2-1ad5bb902c64"
      },
      "outputs": [
        {
          "output_type": "display_data",
          "data": {
            "text/plain": [
              "<Figure size 432x288 with 1 Axes>"
            ],
            "image/png": "[encoded data removed]"
          },
          "metadata": {
            "needs_background": "light"
          }
        },
        {
          "output_type": "display_data",
          "data": {
            "text/plain": [
              "<Figure size 432x288 with 1 Axes>"
            ],
            "image/png": "[encoded data removed]"
          },
          "metadata": {
            "needs_background": "light"
          }
        }
      ],
      "source": [
        "plt.plot(epochs, acc, 'bo', label='Training acc')\n",
        "plt.plot(epochs, val_acc, 'b', label='Validation acc')\n",
        "plt.title('Training and validation accuracy')\n",
        "plt.legend()\n",
        "plt.figure()\n",
        "plt.plot(epochs, loss, 'bo', label='Training loss')\n",
        "plt.plot(epochs, val_loss, 'b', label='Validation loss')\n",
        "plt.title('Training and validation loss')\n",
        "plt.legend()\n",
        "plt.show()"
      ]
    },
    {
      "cell_type": "markdown",
      "source": [
        "### From now on we will use conv_base model and use its weights for our model.(Transfer Learning)"
      ],
      "metadata": {
        "id": "CQuHqXAHb8nX"
      }
    },
    {
      "cell_type": "code",
      "source": [
        "model = models.Sequential()\n",
        "model.add(conv_base)\n",
        "model.add(layers.Flatten())\n",
        "model.add(layers.Dense(256, activation='relu'))\n",
        "model.add(layers.Dense(1, activation='sigmoid'))"
      ],
      "metadata": {
        "id": "RLr5q3bicUa7"
      },
      "execution_count": 57,
      "outputs": []
    },
    {
      "cell_type": "code",
      "source": [
        "model.summary()"
      ],
      "metadata": {
        "colab": {
          "base_uri": "https://localhost:8080/"
        },
        "id": "cvlS1bFVcdE5",
        "outputId": "4c4203d6-6190-4c6a-8945-b92f10320e2a"
      },
      "execution_count": 58,
      "outputs": [
        {
          "output_type": "stream",
          "name": "stdout",
          "text": [
            "Model: \"sequential_3\"\n",
            "_________________________________________________________________\n",
            " Layer (type)                Output Shape              Param #   \n",
            "=================================================================\n",
            " vgg16 (Functional)          (None, 4, 4, 512)         14714688  \n",
            "                                                                 \n",
            " flatten (Flatten)           (None, 8192)              0         \n",
            "                                                                 \n",
            " dense_6 (Dense)             (None, 256)               2097408   \n",
            "                                                                 \n",
            " dense_7 (Dense)             (None, 1)                 257       \n",
            "                                                                 \n",
            "=================================================================\n",
            "Total params: 16,812,353\n",
            "Trainable params: 16,812,353\n",
            "Non-trainable params: 0\n",
            "_________________________________________________________________\n"
          ]
        }
      ]
    },
    {
      "cell_type": "code",
      "source": [
        "print('This is the number of trainable weights before freezing the conv base:', len(model.trainable_weights))"
      ],
      "metadata": {
        "colab": {
          "base_uri": "https://localhost:8080/"
        },
        "id": "fy6eBIcocfZ4",
        "outputId": "12159c2c-b1b2-4588-ee49-5ba11041f80b"
      },
      "execution_count": 59,
      "outputs": [
        {
          "output_type": "stream",
          "name": "stdout",
          "text": [
            "This is the number of trainable weights before freezing the conv base: 30\n"
          ]
        }
      ]
    },
    {
      "cell_type": "code",
      "source": [
        "conv_base.trainable = False"
      ],
      "metadata": {
        "id": "-KfSPtF-cqnS"
      },
      "execution_count": 60,
      "outputs": []
    },
    {
      "cell_type": "code",
      "source": [
        "print('This is the number of trainable weights after freezing the conv base:', len(model.trainable_weights))"
      ],
      "metadata": {
        "colab": {
          "base_uri": "https://localhost:8080/"
        },
        "id": "yWz0KXRncsJL",
        "outputId": "53bd8529-7796-4d45-fad2-b05d3eda01a0"
      },
      "execution_count": 61,
      "outputs": [
        {
          "output_type": "stream",
          "name": "stdout",
          "text": [
            "This is the number of trainable weights after freezing the conv base: 4\n"
          ]
        }
      ]
    },
    {
      "cell_type": "code",
      "source": [
        "from keras.preprocessing.image import ImageDataGenerator\n",
        "train_datagenerator = ImageDataGenerator(\n",
        "      rescale=1./255,\n",
        "      rotation_range=40,\n",
        "      width_shift_range=0.2,\n",
        "      height_shift_range=0.2,\n",
        "      shear_range=0.2,\n",
        "      zoom_range=0.2,\n",
        "      horizontal_flip=True,\n",
        "      fill_mode='nearest')"
      ],
      "metadata": {
        "id": "nziTbjmJcvwU"
      },
      "execution_count": 62,
      "outputs": []
    },
    {
      "cell_type": "code",
      "source": [
        "test_datagenerator = ImageDataGenerator(rescale=1./255)"
      ],
      "metadata": {
        "id": "kucR4ljXc8ph"
      },
      "execution_count": 64,
      "outputs": []
    },
    {
      "cell_type": "code",
      "source": [
        "train_generator = train_datagenerator.flow_from_directory(\n",
        "        '/content/train',\n",
        "        target_size = (150, 150),\n",
        "        batch_size = 20,\n",
        "        class_mode = 'binary')\n",
        "\n",
        "validation_generator = test_datagen.flow_from_directory(\n",
        "        '/content/validation',\n",
        "        target_size = (150, 150),\n",
        "        batch_size = 20,\n",
        "        class_mode = 'binary')"
      ],
      "metadata": {
        "colab": {
          "base_uri": "https://localhost:8080/"
        },
        "id": "8OSc66e1dA9m",
        "outputId": "b9490fb3-6a3e-436a-83c6-4f7e0e408dbd"
      },
      "execution_count": 66,
      "outputs": [
        {
          "output_type": "stream",
          "name": "stdout",
          "text": [
            "Found 2000 images belonging to 2 classes.\n",
            "Found 1000 images belonging to 2 classes.\n"
          ]
        }
      ]
    },
    {
      "cell_type": "code",
      "source": [
        "model.compile(loss='binary_crossentropy', optimizer=optimizers.RMSprop(learning_rate = 2e-5), metrics = ['acc'])"
      ],
      "metadata": {
        "id": "fs1BNwxRdZMw"
      },
      "execution_count": 67,
      "outputs": []
    },
    {
      "cell_type": "code",
      "source": [
        "memoryM1 = model.fit_generator(\n",
        "      train_generator,\n",
        "      steps_per_epoch = 100,\n",
        "      epochs = 30,\n",
        "      validation_data = validation_generator,\n",
        "      validation_steps = 50,\n",
        "      verbose = 2)"
      ],
      "metadata": {
        "colab": {
          "base_uri": "https://localhost:8080/"
        },
        "id": "WZYQ83HPdi1u",
        "outputId": "41edb470-10bd-4016-d4b0-8fe622b175bd"
      },
      "execution_count": 68,
      "outputs": [
        {
          "output_type": "stream",
          "name": "stderr",
          "text": [
            "/usr/local/lib/python3.7/dist-packages/ipykernel_launcher.py:7: UserWarning: `Model.fit_generator` is deprecated and will be removed in a future version. Please use `Model.fit`, which supports generators.\n",
            "  import sys\n"
          ]
        },
        {
          "output_type": "stream",
          "name": "stdout",
          "text": [
            "Epoch 1/30\n",
            "100/100 - 20s - loss: 0.5784 - acc: 0.7000 - val_loss: 0.4312 - val_acc: 0.8290 - 20s/epoch - 203ms/step\n",
            "Epoch 2/30\n",
            "100/100 - 19s - loss: 0.4786 - acc: 0.7870 - val_loss: 0.3664 - val_acc: 0.8340 - 19s/epoch - 190ms/step\n",
            "Epoch 3/30\n",
            "100/100 - 19s - loss: 0.4282 - acc: 0.8040 - val_loss: 0.3426 - val_acc: 0.8530 - 19s/epoch - 193ms/step\n",
            "Epoch 4/30\n",
            "100/100 - 19s - loss: 0.3978 - acc: 0.8300 - val_loss: 0.3197 - val_acc: 0.8670 - 19s/epoch - 191ms/step\n",
            "Epoch 5/30\n",
            "100/100 - 19s - loss: 0.3957 - acc: 0.8260 - val_loss: 0.2927 - val_acc: 0.8680 - 19s/epoch - 192ms/step\n",
            "Epoch 6/30\n",
            "100/100 - 19s - loss: 0.3724 - acc: 0.8330 - val_loss: 0.2857 - val_acc: 0.8720 - 19s/epoch - 193ms/step\n",
            "Epoch 7/30\n",
            "100/100 - 19s - loss: 0.3686 - acc: 0.8380 - val_loss: 0.2875 - val_acc: 0.8810 - 19s/epoch - 191ms/step\n",
            "Epoch 8/30\n",
            "100/100 - 19s - loss: 0.3558 - acc: 0.8425 - val_loss: 0.2868 - val_acc: 0.8770 - 19s/epoch - 190ms/step\n",
            "Epoch 9/30\n",
            "100/100 - 19s - loss: 0.3372 - acc: 0.8535 - val_loss: 0.2658 - val_acc: 0.8870 - 19s/epoch - 192ms/step\n",
            "Epoch 10/30\n",
            "100/100 - 19s - loss: 0.3301 - acc: 0.8585 - val_loss: 0.2638 - val_acc: 0.8890 - 19s/epoch - 191ms/step\n",
            "Epoch 11/30\n",
            "100/100 - 19s - loss: 0.3348 - acc: 0.8540 - val_loss: 0.2613 - val_acc: 0.8860 - 19s/epoch - 190ms/step\n",
            "Epoch 12/30\n",
            "100/100 - 19s - loss: 0.3400 - acc: 0.8445 - val_loss: 0.2565 - val_acc: 0.8870 - 19s/epoch - 190ms/step\n",
            "Epoch 13/30\n",
            "100/100 - 19s - loss: 0.3170 - acc: 0.8710 - val_loss: 0.2617 - val_acc: 0.8820 - 19s/epoch - 190ms/step\n",
            "Epoch 14/30\n",
            "100/100 - 20s - loss: 0.3269 - acc: 0.8625 - val_loss: 0.2569 - val_acc: 0.8880 - 20s/epoch - 198ms/step\n",
            "Epoch 15/30\n",
            "100/100 - 19s - loss: 0.3231 - acc: 0.8640 - val_loss: 0.2506 - val_acc: 0.8940 - 19s/epoch - 192ms/step\n",
            "Epoch 16/30\n",
            "100/100 - 19s - loss: 0.3210 - acc: 0.8665 - val_loss: 0.2471 - val_acc: 0.8880 - 19s/epoch - 190ms/step\n",
            "Epoch 17/30\n",
            "100/100 - 19s - loss: 0.3225 - acc: 0.8585 - val_loss: 0.2481 - val_acc: 0.8920 - 19s/epoch - 192ms/step\n",
            "Epoch 18/30\n",
            "100/100 - 19s - loss: 0.3103 - acc: 0.8710 - val_loss: 0.2618 - val_acc: 0.8920 - 19s/epoch - 190ms/step\n",
            "Epoch 19/30\n",
            "100/100 - 19s - loss: 0.3132 - acc: 0.8650 - val_loss: 0.2733 - val_acc: 0.8870 - 19s/epoch - 191ms/step\n",
            "Epoch 20/30\n",
            "100/100 - 19s - loss: 0.2997 - acc: 0.8760 - val_loss: 0.2457 - val_acc: 0.8950 - 19s/epoch - 189ms/step\n",
            "Epoch 21/30\n",
            "100/100 - 19s - loss: 0.2982 - acc: 0.8725 - val_loss: 0.2524 - val_acc: 0.8940 - 19s/epoch - 190ms/step\n",
            "Epoch 22/30\n",
            "100/100 - 19s - loss: 0.2943 - acc: 0.8690 - val_loss: 0.2503 - val_acc: 0.8930 - 19s/epoch - 190ms/step\n",
            "Epoch 23/30\n",
            "100/100 - 19s - loss: 0.3045 - acc: 0.8685 - val_loss: 0.2434 - val_acc: 0.8980 - 19s/epoch - 189ms/step\n",
            "Epoch 24/30\n",
            "100/100 - 19s - loss: 0.2942 - acc: 0.8730 - val_loss: 0.2405 - val_acc: 0.8980 - 19s/epoch - 190ms/step\n",
            "Epoch 25/30\n",
            "100/100 - 19s - loss: 0.2913 - acc: 0.8810 - val_loss: 0.2438 - val_acc: 0.8940 - 19s/epoch - 191ms/step\n",
            "Epoch 26/30\n",
            "100/100 - 19s - loss: 0.2957 - acc: 0.8720 - val_loss: 0.2419 - val_acc: 0.8970 - 19s/epoch - 188ms/step\n",
            "Epoch 27/30\n",
            "100/100 - 19s - loss: 0.2988 - acc: 0.8720 - val_loss: 0.2523 - val_acc: 0.8870 - 19s/epoch - 191ms/step\n",
            "Epoch 28/30\n",
            "100/100 - 20s - loss: 0.2916 - acc: 0.8740 - val_loss: 0.2435 - val_acc: 0.8960 - 20s/epoch - 198ms/step\n",
            "Epoch 29/30\n",
            "100/100 - 19s - loss: 0.3028 - acc: 0.8745 - val_loss: 0.2464 - val_acc: 0.8900 - 19s/epoch - 189ms/step\n",
            "Epoch 30/30\n",
            "100/100 - 19s - loss: 0.2865 - acc: 0.8765 - val_loss: 0.2604 - val_acc: 0.8960 - 19s/epoch - 190ms/step\n"
          ]
        }
      ]
    },
    {
      "cell_type": "code",
      "source": [
        "model.save('cats_and_dogs_small_3.h5')"
      ],
      "metadata": {
        "id": "Ep8G7DhwdwY4"
      },
      "execution_count": 69,
      "outputs": []
    },
    {
      "cell_type": "code",
      "source": [
        "acc = memoryM1.history['acc']\n",
        "val_acc = memoryM1.history['val_acc']\n",
        "loss = memoryM1.history['loss']\n",
        "val_loss = memoryM1.history['val_loss']\n",
        "\n",
        "epochs = range(len(acc))\n",
        "\n",
        "plt.plot(epochs, acc, 'bo', label='Training acc')\n",
        "plt.plot(epochs, val_acc, 'b', label='Validation acc')\n",
        "plt.title('Training and validation accuracy')\n",
        "plt.legend()\n",
        "\n",
        "plt.figure()\n",
        "\n",
        "plt.plot(epochs, loss, 'bo', label='Training loss')\n",
        "plt.plot(epochs, val_loss, 'b', label='Validation loss')\n",
        "plt.title('Training and validation loss')\n",
        "plt.legend()\n",
        "\n",
        "plt.show()"
      ],
      "metadata": {
        "colab": {
          "base_uri": "https://localhost:8080/",
          "height": 545
        },
        "id": "GGtJkZfHfdPA",
        "outputId": "553c2018-370e-4a18-d2fa-1991af801b50"
      },
      "execution_count": 70,
      "outputs": [
        {
          "output_type": "display_data",
          "data": {
            "text/plain": [
              "<Figure size 432x288 with 1 Axes>"
            ],
            "image/png": "[encoded data removed]"
          },
          "metadata": {
            "needs_background": "light"
          }
        },
        {
          "output_type": "display_data",
          "data": {
            "text/plain": [
              "<Figure size 432x288 with 1 Axes>"
            ],
            "image/png": "[encoded data removed]"
          },
          "metadata": {
            "needs_background": "light"
          }
        }
      ]
    }
  ],
  "metadata": {
    "colab": {
      "name": "DL_start_session_3C1.ipynb",
      "provenance": []
    },
    "gpuClass": "standard",
    "kernelspec": {
      "display_name": "Python 3",
      "name": "python3"
    },
    "language_info": {
      "name": "python"
    },
    "accelerator": "GPU"
  },
  "nbformat": 4,
  "nbformat_minor": 0
}