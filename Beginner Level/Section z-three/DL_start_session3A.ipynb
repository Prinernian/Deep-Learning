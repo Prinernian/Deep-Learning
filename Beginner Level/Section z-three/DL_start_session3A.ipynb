{
  "nbformat": 4,
  "nbformat_minor": 0,
  "metadata": {
    "colab": {
      "name": "DL_start_session3A.ipynb",
      "provenance": []
    },
    "kernelspec": {
      "name": "python3",
      "display_name": "Python 3"
    },
    "language_info": {
      "name": "python"
    }
  },
  "cells": [
    {
      "cell_type": "code",
      "execution_count": 9,
      "metadata": {
        "id": "imrUhRm-Uymi"
      },
      "outputs": [],
      "source": [
        "from keras import models\n",
        "from keras import layers\n",
        "from tensorflow.keras import optimizers\n",
        "from keras.preprocessing.image import ImageDataGenerator"
      ]
    },
    {
      "cell_type": "markdown",
      "source": [
        "### This is a binary classification model issue, so in the last layer I added one neuron with a sigmoid activation function."
      ],
      "metadata": {
        "id": "Fog5TsrkZAgN"
      }
    },
    {
      "cell_type": "code",
      "source": [
        "model = models.Sequential()\n",
        "model.add(layers.Conv2D(32, (3, 3), activation='relu', input_shape=(150, 150, 3)))\n",
        "model.add(layers.MaxPooling2D((2, 2)))\n",
        "model.add(layers.Conv2D(64, (3, 3), activation='relu'))\n",
        "model.add(layers.MaxPooling2D((2, 2)))\n",
        "model.add(layers.Conv2D(128, (3, 3), activation='relu'))\n",
        "model.add(layers.MaxPooling2D((2, 2)))\n",
        "model.add(layers.Conv2D(128, (3, 3), activation='relu'))\n",
        "model.add(layers.MaxPooling2D((2, 2)))\n",
        "model.add(layers.Flatten())\n",
        "model.add(layers.Dense(512, activation='relu'))\n",
        "model.add(layers.Dense(1, activation='sigmoid'))"
      ],
      "metadata": {
        "id": "1gBuu-OQYHH-"
      },
      "execution_count": 10,
      "outputs": []
    },
    {
      "cell_type": "code",
      "source": [
        "model.summary()"
      ],
      "metadata": {
        "colab": {
          "base_uri": "https://localhost:8080/"
        },
        "id": "LZT2OoVJZZw4",
        "outputId": "c4e6fe43-f8aa-4220-84c9-1a231b5d96ce"
      },
      "execution_count": 11,
      "outputs": [
        {
          "output_type": "stream",
          "name": "stdout",
          "text": [
            "Model: \"sequential\"\n",
            "_________________________________________________________________\n",
            " Layer (type)                Output Shape              Param #   \n",
            "=================================================================\n",
            " conv2d (Conv2D)             (None, 148, 148, 32)      896       \n",
            "                                                                 \n",
            " max_pooling2d (MaxPooling2D  (None, 74, 74, 32)       0         \n",
            " )                                                               \n",
            "                                                                 \n",
            " conv2d_1 (Conv2D)           (None, 72, 72, 64)        18496     \n",
            "                                                                 \n",
            " max_pooling2d_1 (MaxPooling  (None, 36, 36, 64)       0         \n",
            " 2D)                                                             \n",
            "                                                                 \n",
            " conv2d_2 (Conv2D)           (None, 34, 34, 128)       73856     \n",
            "                                                                 \n",
            " max_pooling2d_2 (MaxPooling  (None, 17, 17, 128)      0         \n",
            " 2D)                                                             \n",
            "                                                                 \n",
            " conv2d_3 (Conv2D)           (None, 15, 15, 128)       147584    \n",
            "                                                                 \n",
            " max_pooling2d_3 (MaxPooling  (None, 7, 7, 128)        0         \n",
            " 2D)                                                             \n",
            "                                                                 \n",
            " flatten (Flatten)           (None, 6272)              0         \n",
            "                                                                 \n",
            " dense (Dense)               (None, 512)               3211776   \n",
            "                                                                 \n",
            " dense_1 (Dense)             (None, 1)                 513       \n",
            "                                                                 \n",
            "=================================================================\n",
            "Total params: 3,453,121\n",
            "Trainable params: 3,453,121\n",
            "Non-trainable params: 0\n",
            "_________________________________________________________________\n"
          ]
        }
      ]
    },
    {
      "cell_type": "code",
      "source": [
        "model.compile(loss = 'binary_crossentropy', optimizer = optimizers.RMSprop(learning_rate=1e-4), metrics = ['acc'])"
      ],
      "metadata": {
        "id": "W_fG1IeYZbL-"
      },
      "execution_count": 12,
      "outputs": []
    },
    {
      "cell_type": "markdown",
      "source": [
        "### Upload your folders of train and validation images in colab"
      ],
      "metadata": {
        "id": "VkzNXf0qfRFG"
      }
    },
    {
      "cell_type": "code",
      "source": [
        "!unzip /content/train.zip"
      ],
      "metadata": {
        "id": "oPwuwLsyfQT9"
      },
      "execution_count": null,
      "outputs": []
    },
    {
      "cell_type": "code",
      "source": [
        "!unzip /content/validation.zip"
      ],
      "metadata": {
        "id": "q-RGUZnAixHh"
      },
      "execution_count": null,
      "outputs": []
    },
    {
      "cell_type": "code",
      "source": [
        "train_datagen = ImageDataGenerator(rescale=1./255)\n",
        "test_datagen = ImageDataGenerator(rescale=1./255)\n",
        "train_generator = train_datagen.flow_from_directory(\"/content/train\", target_size=(150, 150), batch_size=20, class_mode='binary')\n",
        "validation_generator = test_datagen.flow_from_directory(\"/content/validation\", target_size=(150, 150), batch_size=20, class_mode='binary')"
      ],
      "metadata": {
        "colab": {
          "base_uri": "https://localhost:8080/"
        },
        "id": "cXMVb4DyaJ1r",
        "outputId": "f8faac48-ac5c-4f3a-f52b-18e247ca3319"
      },
      "execution_count": 14,
      "outputs": [
        {
          "output_type": "stream",
          "name": "stdout",
          "text": [
            "Found 2000 images belonging to 2 classes.\n",
            "Found 1000 images belonging to 2 classes.\n"
          ]
        }
      ]
    },
    {
      "cell_type": "code",
      "source": [
        "for data_batch, labels_batch in train_generator:\n",
        "    print('data batch shape:', data_batch.shape)\n",
        "    print('labels batch shape:', labels_batch.shape)\n",
        "    break"
      ],
      "metadata": {
        "colab": {
          "base_uri": "https://localhost:8080/"
        },
        "id": "lYWw7-dIfO9l",
        "outputId": "cc8a6bdc-fbe9-4921-f0e6-42ce6ef4e0cd"
      },
      "execution_count": 15,
      "outputs": [
        {
          "output_type": "stream",
          "name": "stdout",
          "text": [
            "data batch shape: (20, 150, 150, 3)\n",
            "labels batch shape: (20,)\n"
          ]
        }
      ]
    },
    {
      "cell_type": "code",
      "source": [
        "memoryM = model.fit_generator(train_generator, steps_per_epoch=100, epochs=30, validation_data=validation_generator, validation_steps=50)"
      ],
      "metadata": {
        "colab": {
          "base_uri": "https://localhost:8080/"
        },
        "id": "0VUGVmRqlcW-",
        "outputId": "3e3eaf79-3d02-4b4f-9661-13b5a92ab275"
      },
      "execution_count": 16,
      "outputs": [
        {
          "output_type": "stream",
          "name": "stderr",
          "text": [
            "/usr/local/lib/python3.7/dist-packages/ipykernel_launcher.py:1: UserWarning: `Model.fit_generator` is deprecated and will be removed in a future version. Please use `Model.fit`, which supports generators.\n",
            "  \"\"\"Entry point for launching an IPython kernel.\n"
          ]
        },
        {
          "output_type": "stream",
          "name": "stdout",
          "text": [
            "Epoch 1/30\n",
            "100/100 [==============================] - 78s 771ms/step - loss: 0.6924 - acc: 0.5240 - val_loss: 0.6727 - val_acc: 0.5860\n",
            "Epoch 2/30\n",
            "100/100 [==============================] - 76s 763ms/step - loss: 0.6619 - acc: 0.5910 - val_loss: 0.6378 - val_acc: 0.6280\n",
            "Epoch 3/30\n",
            "100/100 [==============================] - 77s 767ms/step - loss: 0.6184 - acc: 0.6560 - val_loss: 0.6494 - val_acc: 0.5870\n",
            "Epoch 4/30\n",
            "100/100 [==============================] - 77s 769ms/step - loss: 0.5836 - acc: 0.6805 - val_loss: 0.5778 - val_acc: 0.6980\n",
            "Epoch 5/30\n",
            "100/100 [==============================] - 77s 769ms/step - loss: 0.5419 - acc: 0.7215 - val_loss: 0.5639 - val_acc: 0.6830\n",
            "Epoch 6/30\n",
            "100/100 [==============================] - 77s 772ms/step - loss: 0.5113 - acc: 0.7385 - val_loss: 0.5646 - val_acc: 0.6890\n",
            "Epoch 7/30\n",
            "100/100 [==============================] - 77s 770ms/step - loss: 0.4900 - acc: 0.7655 - val_loss: 0.5561 - val_acc: 0.7020\n",
            "Epoch 8/30\n",
            "100/100 [==============================] - 77s 770ms/step - loss: 0.4567 - acc: 0.7805 - val_loss: 0.5628 - val_acc: 0.6980\n",
            "Epoch 9/30\n",
            "100/100 [==============================] - 77s 771ms/step - loss: 0.4386 - acc: 0.7950 - val_loss: 0.5299 - val_acc: 0.7180\n",
            "Epoch 10/30\n",
            "100/100 [==============================] - 77s 770ms/step - loss: 0.4046 - acc: 0.8270 - val_loss: 0.5463 - val_acc: 0.7190\n",
            "Epoch 11/30\n",
            "100/100 [==============================] - 77s 775ms/step - loss: 0.3820 - acc: 0.8235 - val_loss: 0.5497 - val_acc: 0.7260\n",
            "Epoch 12/30\n",
            "100/100 [==============================] - 77s 772ms/step - loss: 0.3491 - acc: 0.8475 - val_loss: 0.5731 - val_acc: 0.7250\n",
            "Epoch 13/30\n",
            "100/100 [==============================] - 77s 774ms/step - loss: 0.3290 - acc: 0.8545 - val_loss: 0.5188 - val_acc: 0.7540\n",
            "Epoch 14/30\n",
            "100/100 [==============================] - 78s 776ms/step - loss: 0.2954 - acc: 0.8845 - val_loss: 0.5894 - val_acc: 0.7190\n",
            "Epoch 15/30\n",
            "100/100 [==============================] - 77s 772ms/step - loss: 0.2747 - acc: 0.8760 - val_loss: 0.5390 - val_acc: 0.7510\n",
            "Epoch 16/30\n",
            "100/100 [==============================] - 77s 769ms/step - loss: 0.2461 - acc: 0.9000 - val_loss: 0.5565 - val_acc: 0.7490\n",
            "Epoch 17/30\n",
            "100/100 [==============================] - 77s 772ms/step - loss: 0.2184 - acc: 0.9200 - val_loss: 0.7033 - val_acc: 0.7200\n",
            "Epoch 18/30\n",
            "100/100 [==============================] - 77s 773ms/step - loss: 0.1925 - acc: 0.9295 - val_loss: 0.5997 - val_acc: 0.7460\n",
            "Epoch 19/30\n",
            "100/100 [==============================] - 78s 776ms/step - loss: 0.1772 - acc: 0.9370 - val_loss: 0.6036 - val_acc: 0.7550\n",
            "Epoch 20/30\n",
            "100/100 [==============================] - 78s 776ms/step - loss: 0.1525 - acc: 0.9470 - val_loss: 0.6555 - val_acc: 0.7570\n",
            "Epoch 21/30\n",
            "100/100 [==============================] - 77s 773ms/step - loss: 0.1302 - acc: 0.9545 - val_loss: 0.7122 - val_acc: 0.7350\n",
            "Epoch 22/30\n",
            "100/100 [==============================] - 78s 778ms/step - loss: 0.1124 - acc: 0.9605 - val_loss: 0.9273 - val_acc: 0.7030\n",
            "Epoch 23/30\n",
            "100/100 [==============================] - 78s 777ms/step - loss: 0.1017 - acc: 0.9680 - val_loss: 0.7154 - val_acc: 0.7570\n",
            "Epoch 24/30\n",
            "100/100 [==============================] - 78s 777ms/step - loss: 0.0812 - acc: 0.9735 - val_loss: 1.0579 - val_acc: 0.7040\n",
            "Epoch 25/30\n",
            "100/100 [==============================] - 78s 777ms/step - loss: 0.0703 - acc: 0.9820 - val_loss: 0.7570 - val_acc: 0.7580\n",
            "Epoch 26/30\n",
            "100/100 [==============================] - 78s 778ms/step - loss: 0.0563 - acc: 0.9875 - val_loss: 0.9787 - val_acc: 0.7350\n",
            "Epoch 27/30\n",
            "100/100 [==============================] - 78s 776ms/step - loss: 0.0533 - acc: 0.9865 - val_loss: 0.8857 - val_acc: 0.7470\n",
            "Epoch 28/30\n",
            "100/100 [==============================] - 78s 777ms/step - loss: 0.0416 - acc: 0.9860 - val_loss: 0.9541 - val_acc: 0.7400\n",
            "Epoch 29/30\n",
            "100/100 [==============================] - 78s 777ms/step - loss: 0.0383 - acc: 0.9900 - val_loss: 0.9370 - val_acc: 0.7510\n",
            "Epoch 30/30\n",
            "100/100 [==============================] - 77s 774ms/step - loss: 0.0373 - acc: 0.9890 - val_loss: 0.9899 - val_acc: 0.7490\n"
          ]
        }
      ]
    },
    {
      "cell_type": "markdown",
      "source": [
        "### Let's plot the history of our memoryM model"
      ],
      "metadata": {
        "id": "30nPDoRgrfKp"
      }
    },
    {
      "cell_type": "code",
      "source": [
        "import matplotlib.pyplot as plt\n",
        "acc = memoryM.history['acc']\n",
        "val_acc = memoryM.history['val_acc']\n",
        "loss = memoryM.history['loss']\n",
        "val_loss = memoryM.history['val_loss']\n",
        "\n",
        "epochs = range(len(acc))\n",
        "\n",
        "plt.plot(epochs, acc, 'bo', label='Training acc')\n",
        "plt.plot(epochs, val_acc, 'b', label='Validation acc')\n",
        "plt.title('Training and validation accuracy')\n",
        "plt.legend()\n",
        "\n",
        "plt.figure()\n",
        "\n",
        "plt.plot(epochs, loss, 'bo', label='Training loss')\n",
        "plt.plot(epochs, val_loss, 'b', label='Validation loss')\n",
        "plt.title('Training and validation loss')\n",
        "plt.legend()\n",
        "\n",
        "plt.show()"
      ],
      "metadata": {
        "colab": {
          "base_uri": "https://localhost:8080/",
          "height": 545
        },
        "id": "eR90qIOAli_w",
        "outputId": "4f3fbbfd-28ad-4592-9119-4925efb8899f"
      },
      "execution_count": 17,
      "outputs": [
        {
          "output_type": "display_data",
          "data": {
            "text/plain": [
              "<Figure size 432x288 with 1 Axes>"
            ],
            "image/png": "[encoded data removed]"
          },
          "metadata": {
            "needs_background": "light"
          }
        },
        {
          "output_type": "display_data",
          "data": {
            "text/plain": [
              "<Figure size 432x288 with 1 Axes>"
            ],
            "image/png": "[encoded data removed]"
          },
          "metadata": {
            "needs_background": "light"
          }
        }
      ]
    }
  ]
}