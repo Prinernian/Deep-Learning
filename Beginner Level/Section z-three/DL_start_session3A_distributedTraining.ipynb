{
  "nbformat": 4,
  "nbformat_minor": 0,
  "metadata": {
    "colab": {
      "name": "DL_start_session3A_distributedTraining.ipynb",
      "provenance": []
    },
    "kernelspec": {
      "name": "python3",
      "display_name": "Python 3"
    },
    "language_info": {
      "name": "python"
    },
    "accelerator": "GPU"
  },
  "cells": [
    {
      "cell_type": "code",
      "execution_count": 1,
      "metadata": {
        "id": "imrUhRm-Uymi"
      },
      "outputs": [],
      "source": [
        "import tensorflow as tf\n",
        "from keras import models\n",
        "from keras import layers\n",
        "import os\n",
        "from tensorflow.keras import optimizers\n",
        "from keras.preprocessing.image import ImageDataGenerator"
      ]
    },
    {
      "cell_type": "markdown",
      "source": [
        "### This is a binary classification model issue, so in the last layer I added one neuron with a sigmoid activation function.\n",
        "####The `tf.distribute.Strategy` API which implemented below, provides an abstraction for distributing your training across multiple processing units. It allows you to carry out distributed training using existing models and training code with minimal changes."
      ],
      "metadata": {
        "id": "Fog5TsrkZAgN"
      }
    },
    {
      "cell_type": "code",
      "source": [
        "strategy = tf.distribute.MirroredStrategy()"
      ],
      "metadata": {
        "colab": {
          "base_uri": "https://localhost:8080/"
        },
        "id": "lrhXQ1O24UNW",
        "outputId": "81df50a9-2c04-4afa-d01c-b1a627a65314"
      },
      "execution_count": 2,
      "outputs": [
        {
          "output_type": "stream",
          "name": "stdout",
          "text": [
            "INFO:tensorflow:Using MirroredStrategy with devices ('/job:localhost/replica:0/task:0/device:GPU:0',)\n"
          ]
        }
      ]
    },
    {
      "cell_type": "code",
      "source": [
        "print('Number of devices: {}'.format(strategy.num_replicas_in_sync))"
      ],
      "metadata": {
        "colab": {
          "base_uri": "https://localhost:8080/"
        },
        "id": "UGxlsjJX5gTC",
        "outputId": "3bf056d1-68c5-49fc-bb70-1dd6ded5161d"
      },
      "execution_count": 3,
      "outputs": [
        {
          "output_type": "stream",
          "name": "stdout",
          "text": [
            "Number of devices: 1\n"
          ]
        }
      ]
    },
    {
      "cell_type": "code",
      "source": [
        "with strategy.scope():\n",
        "  model = models.Sequential()\n",
        "  model.add(layers.Conv2D(32, (3, 3), activation='relu', input_shape=(150, 150, 3)))\n",
        "  model.add(layers.MaxPooling2D((2, 2)))\n",
        "  model.add(layers.Conv2D(64, (3, 3), activation='relu'))\n",
        "  model.add(layers.MaxPooling2D((2, 2)))\n",
        "  model.add(layers.Conv2D(128, (3, 3), activation='relu'))\n",
        "  model.add(layers.MaxPooling2D((2, 2)))\n",
        "  model.add(layers.Conv2D(128, (3, 3), activation='relu'))\n",
        "  model.add(layers.MaxPooling2D((2, 2)))\n",
        "  model.add(layers.Flatten())\n",
        "  model.add(layers.Dense(512, activation='relu'))\n",
        "  model.add(layers.Dense(1, activation='sigmoid'))\n",
        "  model.compile(loss = tf.keras.losses.binary_crossentropy, optimizer = optimizers.RMSprop(learning_rate=1e-4), metrics = ['acc'])"
      ],
      "metadata": {
        "id": "1gBuu-OQYHH-",
        "colab": {
          "base_uri": "https://localhost:8080/"
        },
        "outputId": "f6d61e95-89aa-4a6f-e17b-5e1c9e27082d"
      },
      "execution_count": 4,
      "outputs": [
        {
          "output_type": "stream",
          "name": "stdout",
          "text": [
            "INFO:tensorflow:Reduce to /job:localhost/replica:0/task:0/device:CPU:0 then broadcast to ('/job:localhost/replica:0/task:0/device:CPU:0',).\n",
            "INFO:tensorflow:Reduce to /job:localhost/replica:0/task:0/device:CPU:0 then broadcast to ('/job:localhost/replica:0/task:0/device:CPU:0',).\n",
            "INFO:tensorflow:Reduce to /job:localhost/replica:0/task:0/device:CPU:0 then broadcast to ('/job:localhost/replica:0/task:0/device:CPU:0',).\n",
            "INFO:tensorflow:Reduce to /job:localhost/replica:0/task:0/device:CPU:0 then broadcast to ('/job:localhost/replica:0/task:0/device:CPU:0',).\n"
          ]
        }
      ]
    },
    {
      "cell_type": "code",
      "source": [
        "model.summary()"
      ],
      "metadata": {
        "colab": {
          "base_uri": "https://localhost:8080/"
        },
        "id": "LZT2OoVJZZw4",
        "outputId": "8823f172-89a9-4f55-e17f-1fe2e34fe86a"
      },
      "execution_count": 5,
      "outputs": [
        {
          "output_type": "stream",
          "name": "stdout",
          "text": [
            "Model: \"sequential\"\n",
            "_________________________________________________________________\n",
            " Layer (type)                Output Shape              Param #   \n",
            "=================================================================\n",
            " conv2d (Conv2D)             (None, 148, 148, 32)      896       \n",
            "                                                                 \n",
            " max_pooling2d (MaxPooling2D  (None, 74, 74, 32)       0         \n",
            " )                                                               \n",
            "                                                                 \n",
            " conv2d_1 (Conv2D)           (None, 72, 72, 64)        18496     \n",
            "                                                                 \n",
            " max_pooling2d_1 (MaxPooling  (None, 36, 36, 64)       0         \n",
            " 2D)                                                             \n",
            "                                                                 \n",
            " conv2d_2 (Conv2D)           (None, 34, 34, 128)       73856     \n",
            "                                                                 \n",
            " max_pooling2d_2 (MaxPooling  (None, 17, 17, 128)      0         \n",
            " 2D)                                                             \n",
            "                                                                 \n",
            " conv2d_3 (Conv2D)           (None, 15, 15, 128)       147584    \n",
            "                                                                 \n",
            " max_pooling2d_3 (MaxPooling  (None, 7, 7, 128)        0         \n",
            " 2D)                                                             \n",
            "                                                                 \n",
            " flatten (Flatten)           (None, 6272)              0         \n",
            "                                                                 \n",
            " dense (Dense)               (None, 512)               3211776   \n",
            "                                                                 \n",
            " dense_1 (Dense)             (None, 1)                 513       \n",
            "                                                                 \n",
            "=================================================================\n",
            "Total params: 3,453,121\n",
            "Trainable params: 3,453,121\n",
            "Non-trainable params: 0\n",
            "_________________________________________________________________\n"
          ]
        }
      ]
    },
    {
      "cell_type": "markdown",
      "source": [
        "### Upload your folders of train and validation images in colab"
      ],
      "metadata": {
        "id": "VkzNXf0qfRFG"
      }
    },
    {
      "cell_type": "code",
      "source": [
        "!unzip /content/train.zip"
      ],
      "metadata": {
        "id": "oPwuwLsyfQT9"
      },
      "execution_count": null,
      "outputs": []
    },
    {
      "cell_type": "code",
      "source": [
        "!unzip /content/validation.zip"
      ],
      "metadata": {
        "id": "q-RGUZnAixHh"
      },
      "execution_count": null,
      "outputs": []
    },
    {
      "cell_type": "code",
      "source": [
        "BUFFER_SIZE = 10\n",
        "BATCH_SIZE_PER_REPLICA = 64\n",
        "BATCH_SIZE = BATCH_SIZE_PER_REPLICA * strategy.num_replicas_in_sync\n",
        "train_datagen = ImageDataGenerator(rescale=1./255)\n",
        "test_datagen = ImageDataGenerator(rescale=1./255)"
      ],
      "metadata": {
        "id": "cXMVb4DyaJ1r"
      },
      "execution_count": 16,
      "outputs": []
    },
    {
      "cell_type": "code",
      "source": [
        "train_generator = train_datagen.flow_from_directory(\"/content/train\",\n",
        "                                                    target_size = (150, 150),\n",
        "                                                    batch_size = BATCH_SIZE,\n",
        "                                                    class_mode = 'binary',\n",
        "                                                    shuffle = BUFFER_SIZE)\n",
        "validation_generator = test_datagen.flow_from_directory(\"/content/validation\",\n",
        "                                                        target_size = (150, 150),\n",
        "                                                        batch_size = BATCH_SIZE,\n",
        "                                                        class_mode = 'binary')"
      ],
      "metadata": {
        "colab": {
          "base_uri": "https://localhost:8080/"
        },
        "id": "X7g6YOZh_Pjv",
        "outputId": "33bb1378-b30e-47dd-e855-c83d0f102b7c"
      },
      "execution_count": 17,
      "outputs": [
        {
          "output_type": "stream",
          "name": "stdout",
          "text": [
            "Found 2000 images belonging to 2 classes.\n",
            "Found 1000 images belonging to 2 classes.\n"
          ]
        }
      ]
    },
    {
      "cell_type": "code",
      "source": [
        "for data_batch, labels_batch in train_generator:\n",
        "    print('data batch shape:', data_batch.shape)\n",
        "    print('labels batch shape:', labels_batch.shape)\n",
        "    break"
      ],
      "metadata": {
        "colab": {
          "base_uri": "https://localhost:8080/"
        },
        "id": "lYWw7-dIfO9l",
        "outputId": "551aea71-53e7-4027-ab30-8e5bf250e78e"
      },
      "execution_count": 18,
      "outputs": [
        {
          "output_type": "stream",
          "name": "stdout",
          "text": [
            "data batch shape: (64, 150, 150, 3)\n",
            "labels batch shape: (64,)\n"
          ]
        }
      ]
    },
    {
      "cell_type": "markdown",
      "source": [
        "### Define the checkpoint directory to store the checkpoints and define the name of the checkpoint files."
      ],
      "metadata": {
        "id": "QcfrC7XbHN-r"
      }
    },
    {
      "cell_type": "code",
      "source": [
        "checkpoint_dir = './training_checkpoints'\n",
        "checkpoint_prefix = os.path.join(checkpoint_dir, \"ckpt_{epoch}\")"
      ],
      "metadata": {
        "id": "7EqMXQem_h-X"
      },
      "execution_count": 19,
      "outputs": []
    },
    {
      "cell_type": "markdown",
      "source": [
        "### Define a function for decaying the learning rate and you can define any decay function you need."
      ],
      "metadata": {
        "id": "nF4j_1QzHiPR"
      }
    },
    {
      "cell_type": "code",
      "source": [
        "def decay(epoch):\n",
        "  if epoch < 3:\n",
        "    return 1e-3\n",
        "  elif epoch >= 3 and epoch < 7:\n",
        "    return 1e-4\n",
        "  else:\n",
        "    return 1e-5"
      ],
      "metadata": {
        "id": "ec0bMvas_ua5"
      },
      "execution_count": 20,
      "outputs": []
    },
    {
      "cell_type": "markdown",
      "source": [
        "### Define a callback for printing the learning rate at the end of each epoch."
      ],
      "metadata": {
        "id": "hea1mcalHni3"
      }
    },
    {
      "cell_type": "code",
      "source": [
        "class PrintLR(tf.keras.callbacks.Callback):\n",
        "  def on_epoch_end(self, epoch, logs=None):\n",
        "    print('\\nLearning rate for epoch {} is {}'.format(epoch + 1, model.optimizer.lr.numpy()))"
      ],
      "metadata": {
        "id": "6b8Asria_1vR"
      },
      "execution_count": 21,
      "outputs": []
    },
    {
      "cell_type": "markdown",
      "source": [
        "### Put all the callbacks together."
      ],
      "metadata": {
        "id": "YDjTjVp8HsDQ"
      }
    },
    {
      "cell_type": "code",
      "source": [
        "callbacks = [\n",
        "    tf.keras.callbacks.TensorBoard(log_dir='./logs'),\n",
        "    tf.keras.callbacks.ModelCheckpoint(filepath=checkpoint_prefix,\n",
        "                                       save_weights_only=True),\n",
        "    tf.keras.callbacks.LearningRateScheduler(decay),\n",
        "    PrintLR()\n",
        "]"
      ],
      "metadata": {
        "id": "mlmBPBpA_4np"
      },
      "execution_count": 22,
      "outputs": []
    },
    {
      "cell_type": "code",
      "source": [
        "memoryM = model.fit_generator(train_generator,\n",
        "                              steps_per_epoch = int(2000/BATCH_SIZE),\n",
        "                              epochs = 30,\n",
        "                              validation_data = validation_generator, \n",
        "                              validation_steps = int(1000/BATCH_SIZE),\n",
        "                              callbacks = callbacks)"
      ],
      "metadata": {
        "colab": {
          "base_uri": "https://localhost:8080/"
        },
        "id": "0VUGVmRqlcW-",
        "outputId": "62df5f7a-7323-4866-ef05-d561c217c17c"
      },
      "execution_count": 26,
      "outputs": [
        {
          "output_type": "stream",
          "name": "stderr",
          "text": [
            "/usr/local/lib/python3.7/dist-packages/ipykernel_launcher.py:1: UserWarning: `Model.fit_generator` is deprecated and will be removed in a future version. Please use `Model.fit`, which supports generators.\n",
            "  \"\"\"Entry point for launching an IPython kernel.\n"
          ]
        },
        {
          "output_type": "stream",
          "name": "stdout",
          "text": [
            "Epoch 1/30\n",
            "31/31 [==============================] - ETA: 0s - loss: 0.7224 - acc: 0.5630\n",
            "Learning rate for epoch 1 is 0.0010000000474974513\n",
            "31/31 [==============================] - 9s 299ms/step - loss: 0.7224 - acc: 0.5630 - val_loss: 0.6750 - val_acc: 0.6094 - lr: 0.0010\n",
            "Epoch 2/30\n",
            "31/31 [==============================] - ETA: 0s - loss: 0.6609 - acc: 0.6178\n",
            "Learning rate for epoch 2 is 0.0010000000474974513\n",
            "31/31 [==============================] - 11s 368ms/step - loss: 0.6609 - acc: 0.6178 - val_loss: 0.6517 - val_acc: 0.6104 - lr: 0.0010\n",
            "Epoch 3/30\n",
            "31/31 [==============================] - ETA: 0s - loss: 0.6254 - acc: 0.6513\n",
            "Learning rate for epoch 3 is 0.0010000000474974513\n",
            "31/31 [==============================] - 11s 366ms/step - loss: 0.6254 - acc: 0.6513 - val_loss: 0.5672 - val_acc: 0.7010 - lr: 0.0010\n",
            "Epoch 4/30\n",
            "31/31 [==============================] - ETA: 0s - loss: 0.5242 - acc: 0.7386\n",
            "Learning rate for epoch 4 is 9.999999747378752e-05\n",
            "31/31 [==============================] - 11s 366ms/step - loss: 0.5242 - acc: 0.7386 - val_loss: 0.5468 - val_acc: 0.7156 - lr: 1.0000e-04\n",
            "Epoch 5/30\n",
            "31/31 [==============================] - ETA: 0s - loss: 0.4926 - acc: 0.7567\n",
            "Learning rate for epoch 5 is 9.999999747378752e-05\n",
            "31/31 [==============================] - 12s 386ms/step - loss: 0.4926 - acc: 0.7567 - val_loss: 0.5472 - val_acc: 0.7063 - lr: 1.0000e-04\n",
            "Epoch 6/30\n",
            "31/31 [==============================] - ETA: 0s - loss: 0.4764 - acc: 0.7629\n",
            "Learning rate for epoch 6 is 9.999999747378752e-05\n",
            "31/31 [==============================] - 9s 289ms/step - loss: 0.4764 - acc: 0.7629 - val_loss: 0.5440 - val_acc: 0.7198 - lr: 1.0000e-04\n",
            "Epoch 7/30\n",
            "31/31 [==============================] - ETA: 0s - loss: 0.4584 - acc: 0.7820\n",
            "Learning rate for epoch 7 is 9.999999747378752e-05\n",
            "31/31 [==============================] - 9s 287ms/step - loss: 0.4584 - acc: 0.7820 - val_loss: 0.5675 - val_acc: 0.7021 - lr: 1.0000e-04\n",
            "Epoch 8/30\n",
            "31/31 [==============================] - ETA: 0s - loss: 0.4476 - acc: 0.7825\n",
            "Learning rate for epoch 8 is 9.999999747378752e-06\n",
            "31/31 [==============================] - 11s 368ms/step - loss: 0.4476 - acc: 0.7825 - val_loss: 0.5401 - val_acc: 0.7177 - lr: 1.0000e-05\n",
            "Epoch 9/30\n",
            "31/31 [==============================] - ETA: 0s - loss: 0.4339 - acc: 0.8011\n",
            "Learning rate for epoch 9 is 9.999999747378752e-06\n",
            "31/31 [==============================] - 9s 286ms/step - loss: 0.4339 - acc: 0.8011 - val_loss: 0.5391 - val_acc: 0.7198 - lr: 1.0000e-05\n",
            "Epoch 10/30\n",
            "31/31 [==============================] - ETA: 0s - loss: 0.4366 - acc: 0.7960\n",
            "Learning rate for epoch 10 is 9.999999747378752e-06\n",
            "31/31 [==============================] - 9s 285ms/step - loss: 0.4366 - acc: 0.7960 - val_loss: 0.5362 - val_acc: 0.7208 - lr: 1.0000e-05\n",
            "Epoch 11/30\n",
            "31/31 [==============================] - ETA: 0s - loss: 0.4308 - acc: 0.8032\n",
            "Learning rate for epoch 11 is 9.999999747378752e-06\n",
            "31/31 [==============================] - 11s 365ms/step - loss: 0.4308 - acc: 0.8032 - val_loss: 0.5393 - val_acc: 0.7250 - lr: 1.0000e-05\n",
            "Epoch 12/30\n",
            "31/31 [==============================] - ETA: 0s - loss: 0.4292 - acc: 0.8032\n",
            "Learning rate for epoch 12 is 9.999999747378752e-06\n",
            "31/31 [==============================] - 11s 365ms/step - loss: 0.4292 - acc: 0.8032 - val_loss: 0.5359 - val_acc: 0.7167 - lr: 1.0000e-05\n",
            "Epoch 13/30\n",
            "31/31 [==============================] - ETA: 0s - loss: 0.4343 - acc: 0.7960\n",
            "Learning rate for epoch 13 is 9.999999747378752e-06\n",
            "31/31 [==============================] - 11s 365ms/step - loss: 0.4343 - acc: 0.7960 - val_loss: 0.5357 - val_acc: 0.7229 - lr: 1.0000e-05\n",
            "Epoch 14/30\n",
            "31/31 [==============================] - ETA: 0s - loss: 0.4267 - acc: 0.8068\n",
            "Learning rate for epoch 14 is 9.999999747378752e-06\n",
            "31/31 [==============================] - 11s 365ms/step - loss: 0.4267 - acc: 0.8068 - val_loss: 0.5360 - val_acc: 0.7240 - lr: 1.0000e-05\n",
            "Epoch 15/30\n",
            "31/31 [==============================] - ETA: 0s - loss: 0.4276 - acc: 0.8032\n",
            "Learning rate for epoch 15 is 9.999999747378752e-06\n",
            "31/31 [==============================] - 9s 290ms/step - loss: 0.4276 - acc: 0.8032 - val_loss: 0.5425 - val_acc: 0.7177 - lr: 1.0000e-05\n",
            "Epoch 16/30\n",
            "31/31 [==============================] - ETA: 0s - loss: 0.4272 - acc: 0.8011\n",
            "Learning rate for epoch 16 is 9.999999747378752e-06\n",
            "31/31 [==============================] - 9s 289ms/step - loss: 0.4272 - acc: 0.8011 - val_loss: 0.5341 - val_acc: 0.7250 - lr: 1.0000e-05\n",
            "Epoch 17/30\n",
            "31/31 [==============================] - ETA: 0s - loss: 0.4259 - acc: 0.8048\n",
            "Learning rate for epoch 17 is 9.999999747378752e-06\n",
            "31/31 [==============================] - 9s 290ms/step - loss: 0.4259 - acc: 0.8048 - val_loss: 0.5355 - val_acc: 0.7240 - lr: 1.0000e-05\n",
            "Epoch 18/30\n",
            "30/31 [============================>.] - ETA: 0s - loss: 0.4248 - acc: 0.8073\n",
            "Learning rate for epoch 18 is 9.999999747378752e-06\n",
            "31/31 [==============================] - 11s 367ms/step - loss: 0.4249 - acc: 0.8068 - val_loss: 0.5378 - val_acc: 0.7260 - lr: 1.0000e-05\n",
            "Epoch 19/30\n",
            "31/31 [==============================] - ETA: 0s - loss: 0.4207 - acc: 0.8084\n",
            "Learning rate for epoch 19 is 9.999999747378752e-06\n",
            "31/31 [==============================] - 9s 287ms/step - loss: 0.4207 - acc: 0.8084 - val_loss: 0.5366 - val_acc: 0.7219 - lr: 1.0000e-05\n",
            "Epoch 20/30\n",
            "31/31 [==============================] - ETA: 0s - loss: 0.4206 - acc: 0.8120\n",
            "Learning rate for epoch 20 is 9.999999747378752e-06\n",
            "31/31 [==============================] - 9s 287ms/step - loss: 0.4206 - acc: 0.8120 - val_loss: 0.5352 - val_acc: 0.7240 - lr: 1.0000e-05\n",
            "Epoch 21/30\n",
            "31/31 [==============================] - ETA: 0s - loss: 0.4202 - acc: 0.8070\n",
            "Learning rate for epoch 21 is 9.999999747378752e-06\n",
            "31/31 [==============================] - 10s 314ms/step - loss: 0.4202 - acc: 0.8070 - val_loss: 0.5421 - val_acc: 0.7240 - lr: 1.0000e-05\n",
            "Epoch 22/30\n",
            "31/31 [==============================] - ETA: 0s - loss: 0.4175 - acc: 0.8177\n",
            "Learning rate for epoch 22 is 9.999999747378752e-06\n",
            "31/31 [==============================] - 11s 366ms/step - loss: 0.4175 - acc: 0.8177 - val_loss: 0.5448 - val_acc: 0.7219 - lr: 1.0000e-05\n",
            "Epoch 23/30\n",
            "31/31 [==============================] - ETA: 0s - loss: 0.4175 - acc: 0.8110\n",
            "Learning rate for epoch 23 is 9.999999747378752e-06\n",
            "31/31 [==============================] - 9s 287ms/step - loss: 0.4175 - acc: 0.8110 - val_loss: 0.5413 - val_acc: 0.7208 - lr: 1.0000e-05\n",
            "Epoch 24/30\n",
            "30/31 [============================>.] - ETA: 0s - loss: 0.4148 - acc: 0.8115\n",
            "Learning rate for epoch 24 is 9.999999747378752e-06\n",
            "31/31 [==============================] - 9s 289ms/step - loss: 0.4141 - acc: 0.8125 - val_loss: 0.5315 - val_acc: 0.7292 - lr: 1.0000e-05\n",
            "Epoch 25/30\n",
            "31/31 [==============================] - ETA: 0s - loss: 0.4132 - acc: 0.8140\n",
            "Learning rate for epoch 25 is 9.999999747378752e-06\n",
            "31/31 [==============================] - 11s 366ms/step - loss: 0.4132 - acc: 0.8140 - val_loss: 0.5355 - val_acc: 0.7271 - lr: 1.0000e-05\n",
            "Epoch 26/30\n",
            "31/31 [==============================] - ETA: 0s - loss: 0.4152 - acc: 0.8110\n",
            "Learning rate for epoch 26 is 9.999999747378752e-06\n",
            "31/31 [==============================] - 9s 289ms/step - loss: 0.4152 - acc: 0.8110 - val_loss: 0.5418 - val_acc: 0.7240 - lr: 1.0000e-05\n",
            "Epoch 27/30\n",
            "31/31 [==============================] - ETA: 0s - loss: 0.4117 - acc: 0.8140\n",
            "Learning rate for epoch 27 is 9.999999747378752e-06\n",
            "31/31 [==============================] - 9s 288ms/step - loss: 0.4117 - acc: 0.8140 - val_loss: 0.5302 - val_acc: 0.7312 - lr: 1.0000e-05\n",
            "Epoch 28/30\n",
            "31/31 [==============================] - ETA: 0s - loss: 0.4093 - acc: 0.8223\n",
            "Learning rate for epoch 28 is 9.999999747378752e-06\n",
            "31/31 [==============================] - 9s 288ms/step - loss: 0.4093 - acc: 0.8223 - val_loss: 0.5367 - val_acc: 0.7260 - lr: 1.0000e-05\n",
            "Epoch 29/30\n",
            "31/31 [==============================] - ETA: 0s - loss: 0.4085 - acc: 0.8208\n",
            "Learning rate for epoch 29 is 9.999999747378752e-06\n",
            "31/31 [==============================] - 9s 288ms/step - loss: 0.4085 - acc: 0.8208 - val_loss: 0.5404 - val_acc: 0.7208 - lr: 1.0000e-05\n",
            "Epoch 30/30\n",
            "30/31 [============================>.] - ETA: 0s - loss: 0.4068 - acc: 0.8161\n",
            "Learning rate for epoch 30 is 9.999999747378752e-06\n",
            "31/31 [==============================] - 9s 289ms/step - loss: 0.4082 - acc: 0.8156 - val_loss: 0.5361 - val_acc: 0.7271 - lr: 1.0000e-05\n"
          ]
        }
      ]
    },
    {
      "cell_type": "markdown",
      "source": [
        "### Let's plot the history of our memoryM model"
      ],
      "metadata": {
        "id": "30nPDoRgrfKp"
      }
    },
    {
      "cell_type": "code",
      "source": [
        "import matplotlib.pyplot as plt\n",
        "acc = memoryM.history['acc']\n",
        "val_acc = memoryM.history['val_acc']\n",
        "loss = memoryM.history['loss']\n",
        "val_loss = memoryM.history['val_loss']\n",
        "\n",
        "epochs = range(len(acc))\n",
        "\n",
        "plt.plot(epochs, acc, 'bo', label='Training acc')\n",
        "plt.plot(epochs, val_acc, 'b', label='Validation acc')\n",
        "plt.title('Training and validation accuracy')\n",
        "plt.legend()\n",
        "\n",
        "plt.figure()\n",
        "\n",
        "plt.plot(epochs, loss, 'bo', label='Training loss')\n",
        "plt.plot(epochs, val_loss, 'b', label='Validation loss')\n",
        "plt.title('Training and validation loss')\n",
        "plt.legend()\n",
        "\n",
        "plt.show()"
      ],
      "metadata": {
        "id": "eR90qIOAli_w",
        "colab": {
          "base_uri": "https://localhost:8080/",
          "height": 545
        },
        "outputId": "c6de9926-d3a2-4eab-e514-89c07d6204f6"
      },
      "execution_count": 27,
      "outputs": [
        {
          "output_type": "display_data",
          "data": {
            "text/plain": [
              "<Figure size 432x288 with 1 Axes>"
            ],
            "image/png": "[encoded data removed]"
          },
          "metadata": {
            "needs_background": "light"
          }
        },
        {
          "output_type": "display_data",
          "data": {
            "text/plain": [
              "<Figure size 432x288 with 1 Axes>"
            ],
            "image/png": "[encoded data removed]"
          },
          "metadata": {
            "needs_background": "light"
          }
        }
      ]
    },
    {
      "cell_type": "markdown",
      "source": [
        "### What should we do with this huge overfit?"
      ],
      "metadata": {
        "id": "HoIrkOsaxP_r"
      }
    }
  ]
}